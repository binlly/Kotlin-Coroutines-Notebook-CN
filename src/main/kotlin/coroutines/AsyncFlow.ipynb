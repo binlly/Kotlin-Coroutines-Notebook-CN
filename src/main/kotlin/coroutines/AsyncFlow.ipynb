{
 "cells": [
  {
   "metadata": {},
   "cell_type": "markdown",
   "source": "# 前置依赖"
  },
  {
   "metadata": {
    "collapsed": true,
    "ExecuteTime": {
     "end_time": "2025-08-26T15:04:08.030629Z",
     "start_time": "2025-08-26T15:04:02.658850Z"
    }
   },
   "cell_type": "code",
   "source": [
    "%useLatestDescriptors\n",
    "%use coroutines"
   ],
   "outputs": [],
   "execution_count": 1
  },
  {
   "metadata": {},
   "cell_type": "markdown",
   "source": "# 流"
  },
  {
   "metadata": {},
   "cell_type": "markdown",
   "source": [
    "## 流构建器\n",
    "\n",
    "各种集合和序列都可以使用 `.asFlow()` 扩展函数转换为流："
   ]
  },
  {
   "metadata": {
    "ExecuteTime": {
     "end_time": "2025-08-26T10:20:05.779246Z",
     "start_time": "2025-08-26T09:59:12.475809Z"
    }
   },
   "cell_type": "code",
   "outputs": [
    {
     "name": "stdout",
     "output_type": "stream",
     "text": [
      "1\n",
      "2\n",
      "3\n"
     ]
    }
   ],
   "execution_count": 67,
   "source": [
    "runBlocking<Unit> {\n",
    "    // Convert an integer range to a flow\n",
    "    (1..3).asFlow().collect { value -> println(value) }\n",
    "}"
   ]
  },
  {
   "metadata": {},
   "cell_type": "markdown",
   "source": [
    "## 中间流操作符\n",
    "\n",
    "流可以使用操作符进行转换，就像你转换集合和序列一样。中间操作符应用于上游流并返回下游流。这些操作符是冷的，就像流一样。调用这样的操作符本身不是一个挂起函数。它工作快速，返回一个新的转换流的定义。\n",
    "\n",
    "基本操作符有像 `map` 和 `filter` 这样熟悉的名字。这些操作符与序列的一个重要区别是，这些操作符内部的代码块可以调用挂起函数。\n",
    "\n",
    "例如，传入请求的流可以使用 `map` 操作符映射到其结果，即使执行请求是一个由挂起函数实现的长期运行操作："
   ]
  },
  {
   "metadata": {
    "ExecuteTime": {
     "end_time": "2025-08-26T10:20:05.779406Z",
     "start_time": "2025-08-26T09:59:12.537504Z"
    }
   },
   "cell_type": "code",
   "outputs": [
    {
     "name": "stdout",
     "output_type": "stream",
     "text": [
      "response 1\n",
      "response 2\n",
      "response 3\n"
     ]
    }
   ],
   "execution_count": 68,
   "source": [
    "suspend fun performRequest(request: Int): String {\n",
    "    delay(1000) // imitate long-running asynchronous work\n",
    "    return \"response $request\"\n",
    "}\n",
    "\n",
    "runBlocking<Unit> {\n",
    "    (1..3).asFlow() // a flow of requests\n",
    "        .map { request -> performRequest(request) }\n",
    "        .collect { response -> println(response) }\n",
    "}"
   ]
  },
  {
   "metadata": {},
   "cell_type": "markdown",
   "source": [
    "## Transform 操作符\n",
    "\n",
    "在流转换操作符中，最通用的一种是 `transform`。它既可以用于模拟 `map` 和 `filter` 等简单转换，也可以实现更复杂的转换。使用 `transform` 操作符，我们可以任意次数地 发出 任意值。\n",
    "\n",
    "例如，使用 `transform`，我们可以在执行长时间运行的异步请求之前发出一个字符串，然后接着发出一个响应："
   ]
  },
  {
   "metadata": {
    "ExecuteTime": {
     "end_time": "2025-08-26T10:20:05.779553Z",
     "start_time": "2025-08-26T09:59:15.609508Z"
    }
   },
   "cell_type": "code",
   "outputs": [
    {
     "name": "stdout",
     "output_type": "stream",
     "text": [
      "Making request 1\n",
      "response 1\n",
      "Making request 2\n",
      "response 2\n",
      "Making request 3\n",
      "response 3\n"
     ]
    }
   ],
   "execution_count": 69,
   "source": [
    "suspend fun performRequest(request: Int): String {\n",
    "    delay(1000) // imitate long-running asynchronous work\n",
    "    return \"response $request\"\n",
    "}\n",
    "\n",
    "runBlocking<Unit> {\n",
    "    (1..3).asFlow() // a flow of requests\n",
    "        .transform { request ->\n",
    "            emit(\"Making request $request\")\n",
    "            emit(performRequest(request))\n",
    "        }\n",
    "        .collect { response -> println(response) }\n",
    "}"
   ]
  },
  {
   "metadata": {},
   "cell_type": "markdown",
   "source": [
    "## 尺寸限制操作符\n",
    "\n",
    "take 等尺寸限制的中间操作符在达到相应的限制时会取消流的执行。协程中的取消总是通过抛出异常来执行，这样所有资源管理函数（例如 `try { ... } finally { ... }` 块）在取消时都能正常运行："
   ]
  },
  {
   "metadata": {
    "ExecuteTime": {
     "end_time": "2025-08-26T10:20:05.779699Z",
     "start_time": "2025-08-26T09:59:18.688915Z"
    }
   },
   "cell_type": "code",
   "outputs": [
    {
     "name": "stdout",
     "output_type": "stream",
     "text": [
      "1\n",
      "2\n",
      "Finally in numbers\n"
     ]
    }
   ],
   "execution_count": 70,
   "source": [
    "fun numbers(): Flow<Int> = flow {\n",
    "    try {\n",
    "        emit(1)\n",
    "        emit(2)\n",
    "        println(\"This line will not execute\")\n",
    "        emit(3)\n",
    "    } finally {\n",
    "        println(\"Finally in numbers\")\n",
    "    }\n",
    "}\n",
    "\n",
    "runBlocking<Unit> {\n",
    "    numbers()\n",
    "        .take(2) // take only the first two\n",
    "        .collect { value -> println(value) }\n",
    "}"
   ]
  },
  {
   "metadata": {},
   "cell_type": "markdown",
   "source": [
    "## 终止流操作符\n",
    "\n",
    "流上的终止操作符是 挂起函数，它们启动流的收集。 `collect` 操作符是最基本的一个，但还有其他终止操作符，可以使其更容易：\n",
    "\n",
    "转换为各种集合，如 `toList` 和 `toSet`。\n",
    "获取第一个值 (`first`) 并确保流发出单个值 (`single`) 的操作符。\n",
    "使用 `reduce` 和 `fold` 将流归约为一个值。\n",
    "例如："
   ]
  },
  {
   "metadata": {
    "ExecuteTime": {
     "end_time": "2025-08-26T10:20:05.779841Z",
     "start_time": "2025-08-26T09:59:18.771430Z"
    }
   },
   "cell_type": "code",
   "outputs": [
    {
     "name": "stdout",
     "output_type": "stream",
     "text": [
      "55\n"
     ]
    }
   ],
   "execution_count": 71,
   "source": [
    "runBlocking<Unit> {\n",
    "    val sum = (1..5).asFlow()\n",
    "        .map { it * it } // squares of numbers from 1 to 5\n",
    "        .reduce { a, b -> a + b } // sum them (terminal operator)\n",
    "    println(sum)\n",
    "}"
   ]
  },
  {
   "metadata": {},
   "cell_type": "markdown",
   "source": [
    "## 流是顺序的 ([Flows are sequential])\n",
    "\n",
    "流的每次独立收集都是顺序执行的，除非使用作用于多个流的特殊操作符。收集直接在调用终止操作符的协程中工作。默认情况下不会启动新的协程。每个发出的值都会被所有中间操作符从上游到下游处理，然后传递给终止操作符。\n",
    "\n",
    "请看以下示例，它过滤偶数整数并将它们映射为字符串："
   ]
  },
  {
   "metadata": {
    "ExecuteTime": {
     "end_time": "2025-08-26T10:20:05.779993Z",
     "start_time": "2025-08-26T09:59:18.834152Z"
    }
   },
   "cell_type": "code",
   "outputs": [
    {
     "name": "stdout",
     "output_type": "stream",
     "text": [
      "Filter 1\n",
      "Filter 2\n",
      "Map 2\n",
      "Collect string 2\n",
      "Filter 3\n",
      "Filter 4\n",
      "Map 4\n",
      "Collect string 4\n",
      "Filter 5\n"
     ]
    }
   ],
   "execution_count": 72,
   "source": [
    "runBlocking<Unit> {\n",
    "    (1..5).asFlow()\n",
    "        .filter {\n",
    "            println(\"Filter $it\")\n",
    "            it % 2 == 0\n",
    "        }\n",
    "        .map {\n",
    "            println(\"Map $it\")\n",
    "            \"string $it\"\n",
    "        }.collect {\n",
    "            println(\"Collect $it\")\n",
    "        }\n",
    "}"
   ]
  },
  {
   "metadata": {},
   "cell_type": "markdown",
   "source": [
    "## flowOn 操作符\n",
    "\n",
    "异常指的是 `flowOn` 函数，该函数应用于改变流发出的上下文。改变流上下文的正确方法如下面示例所示，它还打印相应线程的名称以展示其工作原理："
   ]
  },
  {
   "metadata": {
    "ExecuteTime": {
     "end_time": "2025-08-26T10:20:05.780100Z",
     "start_time": "2025-08-26T09:59:18.908103Z"
    }
   },
   "cell_type": "code",
   "outputs": [
    {
     "name": "stdout",
     "output_type": "stream",
     "text": [
      "[DefaultDispatcher-worker-1 @coroutine#136] Emitting 1\n",
      "[Execution of code 'fun log(msg: String)...' @coroutine#135] Collected 1\n",
      "[DefaultDispatcher-worker-1 @coroutine#136] Emitting 2\n",
      "[Execution of code 'fun log(msg: String)...' @coroutine#135] Collected 2\n",
      "[DefaultDispatcher-worker-1 @coroutine#136] Emitting 3\n",
      "[Execution of code 'fun log(msg: String)...' @coroutine#135] Collected 3\n"
     ]
    }
   ],
   "execution_count": 73,
   "source": [
    "fun log(msg: String) = println(\"[${Thread.currentThread().name}] $msg\")\n",
    "\n",
    "fun simple(): Flow<Int> = flow {\n",
    "    for (i in 1..3) {\n",
    "        Thread.sleep(100) // pretend we are computing it in CPU-consuming way\n",
    "        log(\"Emitting $i\")\n",
    "        emit(i) // emit next value\n",
    "    }\n",
    "}.flowOn(Dispatchers.Default) // RIGHT way to change context for CPU-consuming code in flow builder\n",
    "\n",
    "runBlocking<Unit> {\n",
    "    simple().collect { value ->\n",
    "        log(\"Collected $value\")\n",
    "    }\n",
    "}"
   ]
  },
  {
   "metadata": {},
   "cell_type": "markdown",
   "source": [
    "## 缓冲\n",
    "\n",
    "在不同的协程中运行流的不同部分有助于缩短收集流的总时间，特别是在涉及长期运行的异步操作时。例如，考虑一种情况，`simple` 流的发出很慢，产生一个元素需要 100 毫秒；并且收集器也很慢，处理一个元素需要 300 毫秒。让我们看看收集这样一个包含三个数字的流需要多长时间："
   ]
  },
  {
   "metadata": {
    "ExecuteTime": {
     "end_time": "2025-08-26T10:20:05.780193Z",
     "start_time": "2025-08-26T09:59:19.285871Z"
    }
   },
   "cell_type": "code",
   "outputs": [
    {
     "name": "stdout",
     "output_type": "stream",
     "text": [
      "1\n",
      "2\n",
      "3\n",
      "Collected in 1225 ms\n"
     ]
    }
   ],
   "execution_count": 74,
   "source": [
    "fun simple(): Flow<Int> = flow {\n",
    "    for (i in 1..3) {\n",
    "        delay(100) // pretend we are asynchronously waiting 100 ms\n",
    "        emit(i) // emit next value\n",
    "    }\n",
    "}\n",
    "\n",
    "runBlocking<Unit> {\n",
    "    val time = measureTimeMillis {\n",
    "        simple().collect { value ->\n",
    "            delay(300) // pretend we are processing it for 300 ms\n",
    "            println(value)\n",
    "        }\n",
    "    }\n",
    "    println(\"Collected in $time ms\")\n",
    "}"
   ]
  },
  {
   "metadata": {},
   "cell_type": "markdown",
   "source": "我们可以在流上使用 `buffer` 操作符，让 `simple` 流的发出代码与收集代码并发运行，而不是顺序运行它们："
  },
  {
   "metadata": {
    "ExecuteTime": {
     "end_time": "2025-08-26T10:20:05.780292Z",
     "start_time": "2025-08-26T09:59:20.607181Z"
    }
   },
   "cell_type": "code",
   "outputs": [
    {
     "name": "stdout",
     "output_type": "stream",
     "text": [
      "1\n",
      "2\n",
      "3\n",
      "Collected in 1022 ms\n"
     ]
    }
   ],
   "execution_count": 75,
   "source": [
    "fun simple(): Flow<Int> = flow {\n",
    "    for (i in 1..3) {\n",
    "        delay(100) // pretend we are asynchronously waiting 100 ms\n",
    "        emit(i) // emit next value\n",
    "    }\n",
    "}\n",
    "\n",
    "runBlocking<Unit> {\n",
    "    val time = measureTimeMillis {\n",
    "        simple()\n",
    "            .buffer() // buffer emissions, don't wait\n",
    "            .collect { value ->\n",
    "                delay(300) // pretend we are processing it for 300 ms\n",
    "                println(value)\n",
    "            }\n",
    "    }\n",
    "    println(\"Collected in $time ms\")\n",
    "}"
   ]
  },
  {
   "metadata": {},
   "cell_type": "markdown",
   "source": [
    "## 合并 ([Conflation])\n",
    "\n",
    "当流表示操作的部分结果或操作状态更新时，可能不需要处理每个值，而只需要处理最新值。在这种情况下，可以使用 `conflate` 操作符来跳过中间值，当收集器处理它们的速度太慢时。基于之前的示例："
   ]
  },
  {
   "metadata": {
    "ExecuteTime": {
     "end_time": "2025-08-26T10:20:05.780386Z",
     "start_time": "2025-08-26T09:59:21.729295Z"
    }
   },
   "cell_type": "code",
   "outputs": [
    {
     "name": "stdout",
     "output_type": "stream",
     "text": [
      "1\n",
      "3\n",
      "Collected in 714 ms\n"
     ]
    }
   ],
   "execution_count": 76,
   "source": [
    "fun simple(): Flow<Int> = flow {\n",
    "    for (i in 1..3) {\n",
    "        delay(100) // pretend we are asynchronously waiting 100 ms\n",
    "        emit(i) // emit next value\n",
    "    }\n",
    "}\n",
    "\n",
    "runBlocking<Unit> {\n",
    "    val time = measureTimeMillis {\n",
    "        simple()\n",
    "            .conflate() // conflate emissions, don't process each one\n",
    "            .collect { value ->\n",
    "                delay(300) // pretend we are processing it for 300 ms\n",
    "                println(value)\n",
    "            }\n",
    "    }\n",
    "    println(\"Collected in $time ms\")\n",
    "}"
   ]
  },
  {
   "metadata": {},
   "cell_type": "markdown",
   "source": "我们看到，当第一个数字仍在处理时，第二个和第三个数字已经生成，因此第二个数字被 合并 了，只有最新（第三个）的数字被传递给收集器："
  },
  {
   "metadata": {},
   "cell_type": "markdown",
   "source": [
    "## 处理最新值\n",
    "\n",
    "合并是加速处理的一种方式，当发出者和收集器都很慢时。它通过丢弃发出的值来实现。另一种方法是取消一个慢速收集器，并在每次发出新值时重新启动它。有一系列 `xxxLatest` 操作符，它们执行 `xxx` 操作符相同的基本逻辑，但**_在新值出现时取消其块中的代码_**。让我们尝试将 `conflate` 更改为 `collectLatest` 在之前的示例中："
   ]
  },
  {
   "metadata": {
    "ExecuteTime": {
     "end_time": "2025-08-26T10:20:05.780502Z",
     "start_time": "2025-08-26T09:59:22.537882Z"
    }
   },
   "cell_type": "code",
   "outputs": [
    {
     "name": "stdout",
     "output_type": "stream",
     "text": [
      "Collecting 1\n",
      "Collecting 2\n",
      "Collecting 3\n",
      "Done 3\n",
      "Collected in 614 ms\n"
     ]
    }
   ],
   "execution_count": 77,
   "source": [
    "fun simple(): Flow<Int> = flow {\n",
    "    for (i in 1..3) {\n",
    "        delay(100) // pretend we are asynchronously waiting 100 ms\n",
    "        emit(i) // emit next value\n",
    "    }\n",
    "}\n",
    "\n",
    "runBlocking<Unit> {\n",
    "    val time = measureTimeMillis {\n",
    "        simple()\n",
    "            .collectLatest { value -> // cancel & restart on the latest value\n",
    "                println(\"Collecting $value\")\n",
    "                delay(300) // pretend we are processing it for 300 ms\n",
    "                println(\"Done $value\")\n",
    "            }\n",
    "    }\n",
    "    println(\"Collected in $time ms\")\n",
    "}"
   ]
  },
  {
   "metadata": {},
   "cell_type": "markdown",
   "source": [
    "## 组合多个流\n",
    "\n",
    "## Zip"
   ]
  },
  {
   "metadata": {
    "ExecuteTime": {
     "end_time": "2025-08-26T10:20:05.780593Z",
     "start_time": "2025-08-26T09:59:23.254742Z"
    }
   },
   "cell_type": "code",
   "outputs": [
    {
     "name": "stdout",
     "output_type": "stream",
     "text": [
      "1 -> one\n",
      "2 -> two\n",
      "3 -> three\n"
     ]
    }
   ],
   "execution_count": 78,
   "source": [
    "runBlocking<Unit> {\n",
    "    val nums = (1..3).asFlow() // numbers 1..3\n",
    "    val strs = flowOf(\"one\", \"two\", \"three\") // strings\n",
    "    nums.zip(strs) { a, b -> \"$a -> $b\" } // compose a single string\n",
    "        .collect { println(it) } // collect and print\n",
    "}"
   ]
  },
  {
   "metadata": {},
   "cell_type": "markdown",
   "source": [
    "## Combine\n",
    "\n",
    "当流表示变量或操作的最新值时（另请参阅有关 合并 的相关部分），可能需要执行一个依赖于相应流最新值的计算，并且每当任何上游流发出值时重新计算它。相应的操作符系列称为 `combine`。\n",
    "\n",
    "例如，如果前面示例中的数字每 `300` 毫秒更新一次，但字符串每 `400` 毫秒更新一次，那么使用 `zip` 操作符将它们打包仍将产生相同的结果，尽管结果每 `400` 毫秒打印一次："
   ]
  },
  {
   "metadata": {
    "ExecuteTime": {
     "end_time": "2025-08-26T10:20:05.780694Z",
     "start_time": "2025-08-26T09:59:23.317214Z"
    }
   },
   "cell_type": "code",
   "outputs": [
    {
     "name": "stdout",
     "output_type": "stream",
     "text": [
      "1 -> one at 406 ms from start\n",
      "2 -> two at 813 ms from start\n",
      "3 -> three at 1218 ms from start\n"
     ]
    }
   ],
   "execution_count": 79,
   "source": [
    "runBlocking<Unit> {\n",
    "    val nums = (1..3).asFlow().onEach { delay(300) } // numbers 1..3 every 300 ms\n",
    "    val strs = flowOf(\"one\", \"two\", \"three\").onEach { delay(400) } // strings every 400 ms\n",
    "    val startTime = System.currentTimeMillis() // remember the start time\n",
    "    nums.zip(strs) { a, b -> \"$a -> $b\" } // compose a single string with \"zip\"\n",
    "        .collect { value -> // collect and print\n",
    "            println(\"$value at ${System.currentTimeMillis() - startTime} ms from start\")\n",
    "        }\n",
    "}"
   ]
  },
  {
   "metadata": {},
   "cell_type": "markdown",
   "source": "然而，当这里使用 `combine` 操作符而不是 `zip` 时："
  },
  {
   "metadata": {
    "ExecuteTime": {
     "end_time": "2025-08-26T10:20:05.780763Z",
     "start_time": "2025-08-26T09:59:24.637497Z"
    }
   },
   "cell_type": "code",
   "outputs": [
    {
     "name": "stdout",
     "output_type": "stream",
     "text": [
      "1 -> one at 406 ms from start\n",
      "2 -> one at 609 ms from start\n",
      "2 -> two at 811 ms from start\n",
      "3 -> two at 914 ms from start\n",
      "3 -> three at 1212 ms from start\n"
     ]
    }
   ],
   "execution_count": 80,
   "source": [
    "runBlocking<Unit> {\n",
    "    val nums = (1..3).asFlow().onEach { delay(300) } // numbers 1..3 every 300 ms\n",
    "    val strs = flowOf(\"one\", \"two\", \"three\").onEach { delay(400) } // strings every 400 ms\n",
    "    val startTime = System.currentTimeMillis() // remember the start time\n",
    "    nums.combine(strs) { a, b -> \"$a -> $b\" } // compose a single string with \"combine\"\n",
    "        .collect { value -> // collect and print\n",
    "            println(\"$value at ${System.currentTimeMillis() - startTime} ms from start\")\n",
    "        }\n",
    "}"
   ]
  },
  {
   "metadata": {},
   "cell_type": "markdown",
   "source": [
    "## 展平流\n",
    "\n",
    "流表示异步接收到的值序列，因此很容易出现每个值都触发对另一个值序列请求的情况。例如，我们可以有以下函数，它返回一个包含两个字符串的流，间隔 500 毫秒："
   ]
  },
  {
   "metadata": {
    "ExecuteTime": {
     "end_time": "2025-08-26T10:20:05.780859Z",
     "start_time": "2025-08-26T09:59:25.957788Z"
    }
   },
   "cell_type": "code",
   "outputs": [],
   "execution_count": 81,
   "source": [
    "fun requestFlow(i: Int): Flow<String> = flow {\n",
    "    emit(\"$i: First\")\n",
    "    delay(500) // wait 500 ms\n",
    "    emit(\"$i: Second\")\n",
    "}"
   ]
  },
  {
   "metadata": {},
   "cell_type": "markdown",
   "source": "现在，如果我们有一个包含三个整数的流，并对它们中的每一个调用 `requestFlow`，像这样："
  },
  {
   "metadata": {
    "ExecuteTime": {
     "end_time": "2025-08-26T10:20:05.780956Z",
     "start_time": "2025-08-26T09:59:26.000985Z"
    }
   },
   "cell_type": "code",
   "outputs": [
    {
     "data": {
      "text/plain": [
       "Line_84_jupyter$special$$inlined$map$1@4457a1f5"
      ]
     },
     "execution_count": 82,
     "metadata": {},
     "output_type": "execute_result"
    }
   ],
   "execution_count": 82,
   "source": "(1..3).asFlow().map { requestFlow(it) }"
  },
  {
   "metadata": {},
   "cell_type": "markdown",
   "source": "那么我们最终会得到一个流的流（`Flow<Flow<String>>`），需要将其 展平 成一个单独的流以供进一步处理。集合和序列有 `flatten` 和 `flatMap` 操作符来完成此操作。然而，由于流的异步特性，它们需要不同的展平 模式，因此存在一系列流的展平操作符。"
  },
  {
   "metadata": {},
   "cell_type": "markdown",
   "source": [
    "## flatMapConcat\n",
    "\n",
    "流的流的连接由 `flatMapConcat` 和 `flattenConcat` 操作符提供。它们是相应序列操作符最直接的类比。它们等待内部流完成后才开始收集下一个流，如下面示例所示："
   ]
  },
  {
   "metadata": {
    "ExecuteTime": {
     "end_time": "2025-08-26T10:20:05.781109Z",
     "start_time": "2025-08-26T09:59:26.035793Z"
    }
   },
   "cell_type": "code",
   "outputs": [
    {
     "name": "stdout",
     "output_type": "stream",
     "text": [
      "1: First at 107 ms from start\n",
      "1: Second at 607 ms from start\n",
      "2: First at 712 ms from start\n",
      "2: Second at 1217 ms from start\n",
      "3: First at 1323 ms from start\n",
      "3: Second at 1828 ms from start\n"
     ]
    }
   ],
   "execution_count": 83,
   "source": [
    "fun requestFlow(i: Int): Flow<String> = flow {\n",
    "    emit(\"$i: First\")\n",
    "    delay(500) // wait 500 ms\n",
    "    emit(\"$i: Second\")\n",
    "}\n",
    "\n",
    "runBlocking<Unit> {\n",
    "    val startTime = System.currentTimeMillis() // remember the start time\n",
    "    (1..3).asFlow().onEach { delay(100) } // emit a number every 100 ms\n",
    "        .flatMapConcat { requestFlow(it) }\n",
    "        .collect { value -> // collect and print\n",
    "            println(\"$value at ${System.currentTimeMillis() - startTime} ms from start\")\n",
    "        }\n",
    "}"
   ]
  },
  {
   "metadata": {},
   "cell_type": "markdown",
   "source": [
    "## flatMapMerge\n",
    "\n",
    "另一种展平操作是并发收集所有传入的流，并将它们的值合并到一个流中，以便值尽快发出。它由 `flatMapMerge` 和 `flattenMerge` 操作符实现。它们都接受一个可选的 `concurrency` 参数，该参数限制了同时收集的并发流的数量（默认情况下它等于 `DEFAULT_CONCURRENCY`）。"
   ]
  },
  {
   "metadata": {
    "ExecuteTime": {
     "end_time": "2025-08-26T10:20:05.781201Z",
     "start_time": "2025-08-26T09:59:27.964842Z"
    }
   },
   "cell_type": "code",
   "outputs": [
    {
     "name": "stdout",
     "output_type": "stream",
     "text": [
      "1: First at 106 ms from start\n",
      "2: First at 206 ms from start\n",
      "3: First at 309 ms from start\n",
      "1: Second at 607 ms from start\n",
      "2: Second at 711 ms from start\n",
      "3: Second at 814 ms from start\n"
     ]
    }
   ],
   "execution_count": 84,
   "source": [
    "fun requestFlow(i: Int): Flow<String> = flow {\n",
    "    emit(\"$i: First\")\n",
    "    delay(500) // wait 500 ms\n",
    "    emit(\"$i: Second\")\n",
    "}\n",
    "\n",
    "runBlocking<Unit> {\n",
    "    val startTime = System.currentTimeMillis() // remember the start time\n",
    "    (1..3).asFlow().onEach { delay(100) } // a number every 100 ms\n",
    "        .flatMapMerge { requestFlow(it) }\n",
    "        .collect { value -> // collect and print\n",
    "            println(\"$value at ${System.currentTimeMillis() - startTime} ms from start\")\n",
    "        }\n",
    "}"
   ]
  },
  {
   "metadata": {},
   "cell_type": "markdown",
   "source": [
    "> NOTE\n",
    "\n",
    "> 请注意，flatMapMerge 按顺序调用其代码块（在此示例中为 { `requestFlow(it)` }），但并发收集结果流，这相当于首先执行顺序的 `map { requestFlow(it) }`，然后对结果调用 `flattenMerge`。"
   ]
  },
  {
   "metadata": {},
   "cell_type": "markdown",
   "source": [
    "## flatMapLatest\n",
    "\n",
    "与 `collectLatest` 操作符类似，`collectLatest` 操作符在“处理最新值”部分中有所描述，存在相应的“最新”展平模式，其中一旦发出新流，前一个流的收集就会被取消。它由 `flatMapLatest` 操作符实现。"
   ]
  },
  {
   "metadata": {
    "ExecuteTime": {
     "end_time": "2025-08-26T10:20:05.781273Z",
     "start_time": "2025-08-26T09:59:28.883594Z"
    }
   },
   "cell_type": "code",
   "outputs": [
    {
     "name": "stdout",
     "output_type": "stream",
     "text": [
      "1: First at 106 ms from start\n",
      "2: First at 208 ms from start\n",
      "3: First at 313 ms from start\n",
      "3: Second at 818 ms from start\n"
     ]
    }
   ],
   "execution_count": 85,
   "source": [
    "fun requestFlow(i: Int): Flow<String> = flow {\n",
    "    emit(\"$i: First\")\n",
    "    delay(500) // wait 500 ms\n",
    "    emit(\"$i: Second\")\n",
    "}\n",
    "\n",
    "runBlocking<Unit> {\n",
    "    val startTime = System.currentTimeMillis() // remember the start time\n",
    "    (1..3).asFlow().onEach { delay(100) } // a number every 100 ms\n",
    "        .flatMapLatest { requestFlow(it) }\n",
    "        .collect { value -> // collect and print\n",
    "            println(\"$value at ${System.currentTimeMillis() - startTime} ms from start\")\n",
    "        }\n",
    "}"
   ]
  },
  {
   "metadata": {},
   "cell_type": "markdown",
   "source": [
    "## 流异常\n",
    "\n",
    "## 收集器的 try 和 catch"
   ]
  },
  {
   "metadata": {
    "ExecuteTime": {
     "end_time": "2025-08-26T10:20:05.781378Z",
     "start_time": "2025-08-26T09:59:29.833645Z"
    }
   },
   "cell_type": "code",
   "outputs": [
    {
     "name": "stdout",
     "output_type": "stream",
     "text": [
      "Emitting 1\n",
      "1\n",
      "Emitting 2\n",
      "2\n",
      "Caught java.lang.IllegalStateException: 异常值： 2\n"
     ]
    }
   ],
   "execution_count": 86,
   "source": [
    "fun simple(): Flow<Int> = flow {\n",
    "    for (i in 1..3) {\n",
    "        println(\"Emitting $i\")\n",
    "        emit(i) // emit next value\n",
    "    }\n",
    "}\n",
    "\n",
    "runBlocking<Unit> {\n",
    "    try {\n",
    "        simple().collect { value ->\n",
    "            println(value)\n",
    "            check(value <= 1) { \"异常值： $value\" }\n",
    "        }\n",
    "    } catch (e: Throwable) {\n",
    "        println(\"Caught $e\")\n",
    "    }\n",
    "}"
   ]
  },
  {
   "metadata": {},
   "cell_type": "markdown",
   "source": [
    "## 一切都被捕获\n",
    "\n",
    "前面的示例实际上捕获了发出者或任何中间或终止操作符中发生的任何异常。例如，让我们更改代码，以便发出的值被映射为字符串，但相应的代码产生异常：（此异常仍然被捕获，收集被停止）"
   ]
  },
  {
   "metadata": {
    "ExecuteTime": {
     "end_time": "2025-08-26T10:20:05.781535Z",
     "start_time": "2025-08-26T09:59:29.937041Z"
    }
   },
   "cell_type": "code",
   "outputs": [],
   "source": "",
   "execution_count": null
  },
  {
   "metadata": {
    "ExecuteTime": {
     "end_time": "2025-08-26T10:20:05.781652Z",
     "start_time": "2025-08-26T09:59:29.953361Z"
    }
   },
   "cell_type": "code",
   "outputs": [
    {
     "name": "stdout",
     "output_type": "stream",
     "text": [
      "Emitting 1\n",
      "string 1\n",
      "Emitting 2\n",
      "Caught java.lang.IllegalStateException: Crashed on 2\n"
     ]
    }
   ],
   "execution_count": 88,
   "source": [
    "fun simple(): Flow<String> =\n",
    "    flow {\n",
    "        for (i in 1..3) {\n",
    "            println(\"Emitting $i\")\n",
    "            emit(i) // emit next value\n",
    "        }\n",
    "    }.map { value ->\n",
    "        check(value <= 1) { \"Crashed on $value\" }\n",
    "        \"string $value\"\n",
    "    }\n",
    "\n",
    "runBlocking<Unit> {\n",
    "    try {\n",
    "        simple().collect { value -> println(value) }\n",
    "    } catch (e: Throwable) {\n",
    "        println(\"Caught $e\")\n",
    "    }\n",
    "}"
   ]
  },
  {
   "metadata": {},
   "cell_type": "markdown",
   "source": [
    "## 异常透明性\n",
    "\n",
    "但是发出者的代码如何封装其异常处理行为呢？\n",
    "\n",
    "流必须对异常是 透明的，在 `flow { ... }` 构建器内部的 `try/catch` 块中 发出 值是违反异常透明性的。这保证了抛出异常的收集器总能像前面的示例一样使用 `try/catch` 捕获它。\n",
    "\n",
    "发出者可以使用 `catch` 操作符，该操作符保留了这种异常透明性并允许封装其异常处理。`catch` 操作符的主体可以分析异常并根据捕获到的异常以不同的方式对其作出反应：\n",
    "\n",
    "异常可以使用 `throw` 重新抛出。\n",
    "异常可以通过 `catch` 主体中的 `emit` 转换为值的发出。\n",
    "异常可以被忽略、记录或由其他代码处理。\n",
    "例如，让我们在捕获到异常时发出文本："
   ]
  },
  {
   "metadata": {
    "ExecuteTime": {
     "end_time": "2025-08-26T10:20:05.781757Z",
     "start_time": "2025-08-26T09:59:30.049173Z"
    }
   },
   "cell_type": "code",
   "outputs": [
    {
     "name": "stdout",
     "output_type": "stream",
     "text": [
      "Emitting 1\n",
      "string 1\n",
      "Emitting 2\n",
      "Caught java.lang.IllegalStateException: Crashed on 2\n"
     ]
    }
   ],
   "execution_count": 89,
   "source": [
    "fun simple(): Flow<String> =\n",
    "    flow {\n",
    "        for (i in 1..3) {\n",
    "            println(\"Emitting $i\")\n",
    "            emit(i) // emit next value\n",
    "        }\n",
    "    }\n",
    "        .map { value ->\n",
    "            check(value <= 1) { \"Crashed on $value\" }\n",
    "            \"string $value\"\n",
    "        }\n",
    "\n",
    "runBlocking<Unit> {\n",
    "    simple()\n",
    "        .catch { e -> emit(\"Caught $e\") } // emit on exception\n",
    "        .collect { value -> println(value) }\n",
    "}"
   ]
  },
  {
   "metadata": {},
   "cell_type": "markdown",
   "source": [
    "## 透明捕获\n",
    "\n",
    "`catch` 中间操作符，遵循异常透明性，只捕获上游异常（即来自 `catch` 上方所有操作符的异常，而不是其下方）。如果 `collect { ... }` 中的块（位于 `catch` 下方）抛出异常，那么它会逃逸："
   ]
  },
  {
   "metadata": {
    "ExecuteTime": {
     "end_time": "2025-08-26T10:20:05.781895Z",
     "start_time": "2025-08-26T09:59:30.150200Z"
    }
   },
   "cell_type": "code",
   "outputs": [
    {
     "name": "stdout",
     "output_type": "stream",
     "text": [
      "Emitting 1\n",
      "1\n",
      "Emitting 2\n"
     ]
    },
    {
     "ename": "java.lang.IllegalStateException",
     "evalue": "Collected 2",
     "output_type": "error",
     "traceback": [
      "java.lang.IllegalStateException: Collected 2",
      "\tat Line_91_jupyter$1$2.emit(Line_91.jupyter.kts:12) at Cell In[90], line 12",
      "\tat Line_91_jupyter$1$2.emit(Line_91.jupyter.kts:11) at Cell In[90], line 11",
      "\tat kotlinx.coroutines.flow.FlowKt__ErrorsKt$catchImpl$2.emit(Errors.kt:154)",
      "\tat kotlinx.coroutines.flow.internal.SafeCollectorKt$emitFun$1.invoke(SafeCollector.kt:11)",
      "\tat kotlinx.coroutines.flow.internal.SafeCollectorKt$emitFun$1.invoke(SafeCollector.kt:11)",
      "\tat kotlinx.coroutines.flow.internal.SafeCollector.emit(SafeCollector.kt:113)",
      "\tat kotlinx.coroutines.flow.internal.SafeCollector.emit(SafeCollector.kt:82)",
      "\tat Line_91_jupyter$simple$1.invokeSuspend(Line_91.jupyter.kts:4) at Cell In[90], line 4",
      "\tat Line_91_jupyter$simple$1.invoke(Line_91.jupyter.kts)",
      "\tat Line_91_jupyter$simple$1.invoke(Line_91.jupyter.kts)",
      "\tat kotlinx.coroutines.flow.SafeFlow.collectSafely(Builders.kt:57)",
      "\tat kotlinx.coroutines.flow.AbstractFlow.collect(Flow.kt:226)",
      "\tat kotlinx.coroutines.flow.FlowKt__ErrorsKt.catchImpl(Errors.kt:152)",
      "\tat kotlinx.coroutines.flow.FlowKt.catchImpl(Unknown Source)",
      "\tat kotlinx.coroutines.flow.FlowKt__ErrorsKt$catch$$inlined$unsafeFlow$1.collect(SafeCollector.common.kt:109)",
      "\tat Line_91_jupyter$1.invokeSuspend(Line_91.jupyter.kts:11) at Cell In[90], line 11",
      "\tat kotlin.coroutines.jvm.internal.BaseContinuationImpl.resumeWith(ContinuationImpl.kt:34)",
      "\tat kotlinx.coroutines.DispatchedTask.run(DispatchedTask.kt:100)",
      "\tat kotlinx.coroutines.EventLoopImplBase.processNextEvent(EventLoop.common.kt:263)",
      "\tat kotlinx.coroutines.BlockingCoroutine.joinBlocking(Builders.kt:94)",
      "\tat kotlinx.coroutines.BuildersKt__BuildersKt.runBlocking(Builders.kt:70)",
      "\tat kotlinx.coroutines.BuildersKt.runBlocking(Unknown Source)",
      "\tat kotlinx.coroutines.BuildersKt__BuildersKt.runBlocking$default(Builders.kt:48)",
      "\tat kotlinx.coroutines.BuildersKt.runBlocking$default(Unknown Source)",
      "\tat Line_91_jupyter.<init>(Line_91.jupyter.kts:8) at Cell In[90], line 8",
      "\tat java.base/jdk.internal.reflect.DirectConstructorHandleAccessor.newInstance(Unknown Source)",
      "\tat java.base/java.lang.reflect.Constructor.newInstanceWithCaller(Unknown Source)",
      "\tat java.base/java.lang.reflect.Constructor.newInstance(Unknown Source)",
      "\tat kotlin.script.experimental.jvm.BasicJvmScriptEvaluator.evalWithConfigAndOtherScriptsResults(BasicJvmScriptEvaluator.kt:122)",
      "\tat kotlin.script.experimental.jvm.BasicJvmScriptEvaluator.invoke$suspendImpl(BasicJvmScriptEvaluator.kt:48)",
      "\tat kotlin.script.experimental.jvm.BasicJvmScriptEvaluator.invoke(BasicJvmScriptEvaluator.kt)",
      "\tat kotlin.script.experimental.jvm.BasicJvmReplEvaluator.eval(BasicJvmReplEvaluator.kt:49)",
      "\tat org.jetbrains.kotlinx.jupyter.repl.impl.InternalEvaluatorImpl$eval$resultWithDiagnostics$1.invokeSuspend(InternalEvaluatorImpl.kt:138)",
      "\tat kotlin.coroutines.jvm.internal.BaseContinuationImpl.resumeWith(ContinuationImpl.kt:34)",
      "\tat kotlinx.coroutines.DispatchedTask.run(DispatchedTask.kt:100)",
      "\tat kotlinx.coroutines.EventLoopImplBase.processNextEvent(EventLoop.common.kt:263)",
      "\tat kotlinx.coroutines.BlockingCoroutine.joinBlocking(Builders.kt:95)",
      "\tat kotlinx.coroutines.BuildersKt__BuildersKt.runBlocking(Builders.kt:69)",
      "\tat kotlinx.coroutines.BuildersKt.runBlocking(Unknown Source)",
      "\tat kotlinx.coroutines.BuildersKt__BuildersKt.runBlocking$default(Builders.kt:47)",
      "\tat kotlinx.coroutines.BuildersKt.runBlocking$default(Unknown Source)",
      "\tat org.jetbrains.kotlinx.jupyter.repl.impl.InternalEvaluatorImpl.eval(InternalEvaluatorImpl.kt:138)",
      "\tat org.jetbrains.kotlinx.jupyter.repl.impl.CellExecutorImpl.execute_L4Nmkdk$lambda$9$lambda$1(CellExecutorImpl.kt:80)",
      "\tat org.jetbrains.kotlinx.jupyter.repl.impl.ReplForJupyterImpl.withHost(ReplForJupyterImpl.kt:794)",
      "\tat org.jetbrains.kotlinx.jupyter.repl.impl.CellExecutorImpl.execute-L4Nmkdk(CellExecutorImpl.kt:78)",
      "\tat org.jetbrains.kotlinx.jupyter.repl.execution.CellExecutor.execute-L4Nmkdk$default(CellExecutor.kt:14)",
      "\tat org.jetbrains.kotlinx.jupyter.repl.impl.ReplForJupyterImpl.evaluateUserCode-wNURfNM(ReplForJupyterImpl.kt:616)",
      "\tat org.jetbrains.kotlinx.jupyter.repl.impl.ReplForJupyterImpl.evalExImpl(ReplForJupyterImpl.kt:474)",
      "\tat org.jetbrains.kotlinx.jupyter.repl.impl.ReplForJupyterImpl.evalEx$lambda$20(ReplForJupyterImpl.kt:467)",
      "\tat org.jetbrains.kotlinx.jupyter.repl.impl.ReplForJupyterImpl.withEvalContext(ReplForJupyterImpl.kt:447)",
      "\tat org.jetbrains.kotlinx.jupyter.repl.impl.ReplForJupyterImpl.evalEx(ReplForJupyterImpl.kt:466)",
      "\tat org.jetbrains.kotlinx.jupyter.messaging.IdeCompatibleMessageRequestProcessor.processExecuteRequest$lambda$7$lambda$6$lambda$5(IdeCompatibleMessageRequestProcessor.kt:160)",
      "\tat org.jetbrains.kotlinx.jupyter.streams.BlockingSubstitutionEngine.withDataSubstitution(SubstitutionEngine.kt:70)",
      "\tat org.jetbrains.kotlinx.jupyter.streams.StreamSubstitutionManager.withSubstitutedStreams(StreamSubstitutionManager.kt:118)",
      "\tat org.jetbrains.kotlinx.jupyter.messaging.IdeCompatibleMessageRequestProcessor.withForkedIn(IdeCompatibleMessageRequestProcessor.kt:354)",
      "\tat org.jetbrains.kotlinx.jupyter.messaging.IdeCompatibleMessageRequestProcessor.evalWithIO$lambda$16$lambda$15(IdeCompatibleMessageRequestProcessor.kt:368)",
      "\tat org.jetbrains.kotlinx.jupyter.streams.BlockingSubstitutionEngine.withDataSubstitution(SubstitutionEngine.kt:70)",
      "\tat org.jetbrains.kotlinx.jupyter.streams.StreamSubstitutionManager.withSubstitutedStreams(StreamSubstitutionManager.kt:118)",
      "\tat org.jetbrains.kotlinx.jupyter.messaging.IdeCompatibleMessageRequestProcessor.withForkedErr(IdeCompatibleMessageRequestProcessor.kt:343)",
      "\tat org.jetbrains.kotlinx.jupyter.messaging.IdeCompatibleMessageRequestProcessor.evalWithIO$lambda$16(IdeCompatibleMessageRequestProcessor.kt:367)",
      "\tat org.jetbrains.kotlinx.jupyter.streams.BlockingSubstitutionEngine.withDataSubstitution(SubstitutionEngine.kt:70)",
      "\tat org.jetbrains.kotlinx.jupyter.streams.StreamSubstitutionManager.withSubstitutedStreams(StreamSubstitutionManager.kt:118)",
      "\tat org.jetbrains.kotlinx.jupyter.messaging.IdeCompatibleMessageRequestProcessor.withForkedOut(IdeCompatibleMessageRequestProcessor.kt:335)",
      "\tat org.jetbrains.kotlinx.jupyter.messaging.IdeCompatibleMessageRequestProcessor.evalWithIO(IdeCompatibleMessageRequestProcessor.kt:366)",
      "\tat org.jetbrains.kotlinx.jupyter.messaging.IdeCompatibleMessageRequestProcessor.processExecuteRequest$lambda$7$lambda$6(IdeCompatibleMessageRequestProcessor.kt:159)",
      "\tat org.jetbrains.kotlinx.jupyter.execution.JupyterExecutorImpl$Task.execute(JupyterExecutorImpl.kt:41)",
      "\tat org.jetbrains.kotlinx.jupyter.execution.JupyterExecutorImpl.executorThread$lambda$0(JupyterExecutorImpl.kt:83)",
      "\tat kotlin.concurrent.ThreadsKt$thread$thread$1.run(Thread.kt:30)",
      "",
      "java.lang.IllegalStateException: Collected 2",
      "at Cell In[90], line 12"
     ]
    }
   ],
   "execution_count": 90,
   "source": [
    "fun simple(): Flow<Int> = flow {\n",
    "    for (i in 1..3) {\n",
    "        println(\"Emitting $i\")\n",
    "        emit(i)\n",
    "    }\n",
    "}\n",
    "\n",
    "runBlocking<Unit> {\n",
    "    simple()\n",
    "        .catch { e -> println(\"Caught $e\") } // does not catch downstream exceptions\n",
    "        .collect { value ->\n",
    "            check(value <= 1) { \"Collected $value\" }\n",
    "            println(value)\n",
    "        }\n",
    "}"
   ]
  },
  {
   "metadata": {},
   "cell_type": "markdown",
   "source": [
    "## 声明式捕获\n",
    "\n",
    "我们可以结合 `catch` 操作符的声明性与处理所有异常的愿望，方法是将 `collect` 操作符的主体移到 onEach 中，并将其放在 `catch` 操作符之前。此流的收集必须通过调用不带参数的 `collect()` 来触发："
   ]
  },
  {
   "metadata": {
    "ExecuteTime": {
     "end_time": "2025-08-26T10:20:05.782072Z",
     "start_time": "2025-08-10T12:56:00.527734Z"
    }
   },
   "cell_type": "code",
   "outputs": [
    {
     "name": "stdout",
     "output_type": "stream",
     "text": [
      "Emitting 1\n",
      "1\n",
      "Emitting 2\n",
      "Caught java.lang.IllegalStateException: Collected 2\n"
     ]
    }
   ],
   "execution_count": 39,
   "source": [
    "fun simple(): Flow<Int> = flow {\n",
    "    for (i in 1..3) {\n",
    "        println(\"Emitting $i\")\n",
    "        emit(i)\n",
    "    }\n",
    "}\n",
    "\n",
    "runBlocking<Unit> {\n",
    "    simple()\n",
    "        .onEach { value ->\n",
    "            check(value <= 1) { \"Collected $value\" }\n",
    "            println(value)\n",
    "        }\n",
    "        .catch { e -> println(\"Caught $e\") }\n",
    "        .collect()\n",
    "}"
   ]
  },
  {
   "metadata": {},
   "cell_type": "markdown",
   "source": [
    "## 流完成\n",
    "\n",
    "当流收集完成（正常或异常）时，可能需要执行一个操作。正如您可能已经注意到的，这可以通过两种方式完成：命令式或声明式。\n",
    "\n",
    "## 命令式 finally 块\n",
    "\n",
    "除了 `try/catch`，收集器还可以使用 `finally` 块在 `collect` 完成时执行一个操作。"
   ]
  },
  {
   "metadata": {
    "ExecuteTime": {
     "end_time": "2025-08-26T10:20:05.782173Z",
     "start_time": "2025-08-10T12:57:17.530509Z"
    }
   },
   "cell_type": "code",
   "outputs": [
    {
     "name": "stdout",
     "output_type": "stream",
     "text": [
      "1\n",
      "2\n",
      "3\n",
      "Done\n"
     ]
    }
   ],
   "execution_count": 40,
   "source": [
    "fun simple(): Flow<Int> = (1..3).asFlow()\n",
    "\n",
    "runBlocking<Unit> {\n",
    "    try {\n",
    "        simple().collect { value -> println(value) }\n",
    "    } finally {\n",
    "        println(\"Done\")\n",
    "    }\n",
    "}"
   ]
  },
  {
   "metadata": {},
   "cell_type": "markdown",
   "source": [
    "## 声明式处理\n",
    "\n",
    "对于声明式方法，流有一个 `onCompletion` 中间操作符，当流完全收集完毕时被调用。\n",
    "\n",
    "前面的示例可以使用 `onCompletion` 操作符重写，并产生相同的输出："
   ]
  },
  {
   "metadata": {
    "ExecuteTime": {
     "end_time": "2025-08-26T10:20:05.782265Z",
     "start_time": "2025-08-10T12:57:58.985888Z"
    }
   },
   "cell_type": "code",
   "outputs": [
    {
     "name": "stdout",
     "output_type": "stream",
     "text": [
      "1\n",
      "2\n",
      "3\n",
      "Done\n"
     ]
    }
   ],
   "execution_count": 41,
   "source": [
    "fun simple(): Flow<Int> = (1..3).asFlow()\n",
    "\n",
    "runBlocking<Unit> {\n",
    "    simple()\n",
    "        .onCompletion { println(\"Done\") }\n",
    "        .collect { value -> println(value) }\n",
    "}"
   ]
  },
  {
   "metadata": {},
   "cell_type": "markdown",
   "source": "`onCompletion` 的关键优势是 `lambda` 的可空 `Throwable` 参数，它可以用于确定流收集是正常完成还是异常完成。在以下示例中，`simple` 流在发出数字 `1` 后抛出异常："
  },
  {
   "metadata": {
    "ExecuteTime": {
     "end_time": "2025-08-26T10:20:05.782389Z",
     "start_time": "2025-08-10T13:00:56.417550Z"
    }
   },
   "cell_type": "code",
   "outputs": [
    {
     "name": "stdout",
     "output_type": "stream",
     "text": [
      "1\n",
      "Flow completed exceptionally\n",
      "Caught exception\n"
     ]
    }
   ],
   "execution_count": 49,
   "source": [
    "fun simple(): Flow<Int> = flow {\n",
    "    emit(1)\n",
    "    throw RuntimeException()\n",
    "}\n",
    "\n",
    "runBlocking<Unit> {\n",
    "    simple()\n",
    "        .onCompletion { cause -> if (cause != null) println(\"Flow completed exceptionally\") }\n",
    "        .catch { cause -> println(\"Caught exception\") }\n",
    "        .collect { value -> println(value) }\n",
    "}"
   ]
  },
  {
   "metadata": {},
   "cell_type": "markdown",
   "source": "`onCompletion` 操作符与 `catch` 不同，它不处理异常。正如我们从上面的示例代码中看到的，异常仍然流向下游。它将被传递给进一步的 `onCompletion` 操作符，并且可以用 `catch` 操作符处理。"
  },
  {
   "metadata": {},
   "cell_type": "markdown",
   "source": [
    "## 成功完成\n",
    "\n",
    "与 `catch` 操作符的另一个区别是，`onCompletion` 看到所有异常，并且仅在上游流成功完成时（没有取消或失败）接收 `null` 异常。"
   ]
  },
  {
   "metadata": {
    "ExecuteTime": {
     "end_time": "2025-08-26T10:20:05.782499Z",
     "start_time": "2025-08-10T13:02:01.652181Z"
    }
   },
   "cell_type": "code",
   "outputs": [
    {
     "name": "stdout",
     "output_type": "stream",
     "text": [
      "1\n",
      "Flow completed with java.lang.IllegalStateException: Collected 2\n"
     ]
    },
    {
     "ename": "java.lang.IllegalStateException",
     "evalue": "Collected 2",
     "output_type": "error",
     "traceback": [
      "java.lang.IllegalStateException: Collected 2",
      "\tat Line_51_jupyter$1$2.emit(Line_51.jupyter.kts:7) at Cell In[50], line 7",
      "\tat Line_51_jupyter$1$2.emit(Line_51.jupyter.kts:6) at Cell In[50], line 6",
      "\tat kotlinx.coroutines.flow.FlowKt__BuildersKt$asFlow$$inlined$unsafeFlow$9.collect(SafeCollector.common.kt:111)",
      "\tat kotlinx.coroutines.flow.FlowKt__EmittersKt$onCompletion$$inlined$unsafeFlow$1.collect(SafeCollector.common.kt:110)",
      "\tat Line_51_jupyter$1.invokeSuspend(Line_51.jupyter.kts:6) at Cell In[50], line 6",
      "\tat kotlin.coroutines.jvm.internal.BaseContinuationImpl.resumeWith(ContinuationImpl.kt:34)",
      "\tat kotlinx.coroutines.DispatchedTask.run(DispatchedTask.kt:100)",
      "\tat kotlinx.coroutines.EventLoopImplBase.processNextEvent(EventLoop.common.kt:263)",
      "\tat kotlinx.coroutines.BlockingCoroutine.joinBlocking(Builders.kt:94)",
      "\tat kotlinx.coroutines.BuildersKt__BuildersKt.runBlocking(Builders.kt:70)",
      "\tat kotlinx.coroutines.BuildersKt.runBlocking(Unknown Source)",
      "\tat kotlinx.coroutines.BuildersKt__BuildersKt.runBlocking$default(Builders.kt:48)",
      "\tat kotlinx.coroutines.BuildersKt.runBlocking$default(Unknown Source)",
      "\tat Line_51_jupyter.<init>(Line_51.jupyter.kts:3) at Cell In[50], line 3",
      "\tat java.base/jdk.internal.reflect.DirectConstructorHandleAccessor.newInstance(Unknown Source)",
      "\tat java.base/java.lang.reflect.Constructor.newInstanceWithCaller(Unknown Source)",
      "\tat java.base/java.lang.reflect.Constructor.newInstance(Unknown Source)",
      "\tat kotlin.script.experimental.jvm.BasicJvmScriptEvaluator.evalWithConfigAndOtherScriptsResults(BasicJvmScriptEvaluator.kt:122)",
      "\tat kotlin.script.experimental.jvm.BasicJvmScriptEvaluator.invoke$suspendImpl(BasicJvmScriptEvaluator.kt:48)",
      "\tat kotlin.script.experimental.jvm.BasicJvmScriptEvaluator.invoke(BasicJvmScriptEvaluator.kt)",
      "\tat kotlin.script.experimental.jvm.BasicJvmReplEvaluator.eval(BasicJvmReplEvaluator.kt:49)",
      "\tat org.jetbrains.kotlinx.jupyter.repl.impl.InternalEvaluatorImpl$eval$resultWithDiagnostics$1.invokeSuspend(InternalEvaluatorImpl.kt:138)",
      "\tat kotlin.coroutines.jvm.internal.BaseContinuationImpl.resumeWith(ContinuationImpl.kt:34)",
      "\tat kotlinx.coroutines.DispatchedTask.run(DispatchedTask.kt:100)",
      "\tat kotlinx.coroutines.EventLoopImplBase.processNextEvent(EventLoop.common.kt:263)",
      "\tat kotlinx.coroutines.BlockingCoroutine.joinBlocking(Builders.kt:95)",
      "\tat kotlinx.coroutines.BuildersKt__BuildersKt.runBlocking(Builders.kt:69)",
      "\tat kotlinx.coroutines.BuildersKt.runBlocking(Unknown Source)",
      "\tat kotlinx.coroutines.BuildersKt__BuildersKt.runBlocking$default(Builders.kt:47)",
      "\tat kotlinx.coroutines.BuildersKt.runBlocking$default(Unknown Source)",
      "\tat org.jetbrains.kotlinx.jupyter.repl.impl.InternalEvaluatorImpl.eval(InternalEvaluatorImpl.kt:138)",
      "\tat org.jetbrains.kotlinx.jupyter.repl.impl.CellExecutorImpl.execute_L4Nmkdk$lambda$9$lambda$1(CellExecutorImpl.kt:80)",
      "\tat org.jetbrains.kotlinx.jupyter.repl.impl.ReplForJupyterImpl.withHost(ReplForJupyterImpl.kt:794)",
      "\tat org.jetbrains.kotlinx.jupyter.repl.impl.CellExecutorImpl.execute-L4Nmkdk(CellExecutorImpl.kt:78)",
      "\tat org.jetbrains.kotlinx.jupyter.repl.execution.CellExecutor.execute-L4Nmkdk$default(CellExecutor.kt:14)",
      "\tat org.jetbrains.kotlinx.jupyter.repl.impl.ReplForJupyterImpl.evaluateUserCode-wNURfNM(ReplForJupyterImpl.kt:616)",
      "\tat org.jetbrains.kotlinx.jupyter.repl.impl.ReplForJupyterImpl.evalExImpl(ReplForJupyterImpl.kt:474)",
      "\tat org.jetbrains.kotlinx.jupyter.repl.impl.ReplForJupyterImpl.evalEx$lambda$20(ReplForJupyterImpl.kt:467)",
      "\tat org.jetbrains.kotlinx.jupyter.repl.impl.ReplForJupyterImpl.withEvalContext(ReplForJupyterImpl.kt:447)",
      "\tat org.jetbrains.kotlinx.jupyter.repl.impl.ReplForJupyterImpl.evalEx(ReplForJupyterImpl.kt:466)",
      "\tat org.jetbrains.kotlinx.jupyter.messaging.IdeCompatibleMessageRequestProcessor.processExecuteRequest$lambda$7$lambda$6$lambda$5(IdeCompatibleMessageRequestProcessor.kt:160)",
      "\tat org.jetbrains.kotlinx.jupyter.streams.BlockingSubstitutionEngine.withDataSubstitution(SubstitutionEngine.kt:70)",
      "\tat org.jetbrains.kotlinx.jupyter.streams.StreamSubstitutionManager.withSubstitutedStreams(StreamSubstitutionManager.kt:118)",
      "\tat org.jetbrains.kotlinx.jupyter.messaging.IdeCompatibleMessageRequestProcessor.withForkedIn(IdeCompatibleMessageRequestProcessor.kt:354)",
      "\tat org.jetbrains.kotlinx.jupyter.messaging.IdeCompatibleMessageRequestProcessor.evalWithIO$lambda$16$lambda$15(IdeCompatibleMessageRequestProcessor.kt:368)",
      "\tat org.jetbrains.kotlinx.jupyter.streams.BlockingSubstitutionEngine.withDataSubstitution(SubstitutionEngine.kt:70)",
      "\tat org.jetbrains.kotlinx.jupyter.streams.StreamSubstitutionManager.withSubstitutedStreams(StreamSubstitutionManager.kt:118)",
      "\tat org.jetbrains.kotlinx.jupyter.messaging.IdeCompatibleMessageRequestProcessor.withForkedErr(IdeCompatibleMessageRequestProcessor.kt:343)",
      "\tat org.jetbrains.kotlinx.jupyter.messaging.IdeCompatibleMessageRequestProcessor.evalWithIO$lambda$16(IdeCompatibleMessageRequestProcessor.kt:367)",
      "\tat org.jetbrains.kotlinx.jupyter.streams.BlockingSubstitutionEngine.withDataSubstitution(SubstitutionEngine.kt:70)",
      "\tat org.jetbrains.kotlinx.jupyter.streams.StreamSubstitutionManager.withSubstitutedStreams(StreamSubstitutionManager.kt:118)",
      "\tat org.jetbrains.kotlinx.jupyter.messaging.IdeCompatibleMessageRequestProcessor.withForkedOut(IdeCompatibleMessageRequestProcessor.kt:335)",
      "\tat org.jetbrains.kotlinx.jupyter.messaging.IdeCompatibleMessageRequestProcessor.evalWithIO(IdeCompatibleMessageRequestProcessor.kt:366)",
      "\tat org.jetbrains.kotlinx.jupyter.messaging.IdeCompatibleMessageRequestProcessor.processExecuteRequest$lambda$7$lambda$6(IdeCompatibleMessageRequestProcessor.kt:159)",
      "\tat org.jetbrains.kotlinx.jupyter.execution.JupyterExecutorImpl$Task.execute(JupyterExecutorImpl.kt:41)",
      "\tat org.jetbrains.kotlinx.jupyter.execution.JupyterExecutorImpl.executorThread$lambda$0(JupyterExecutorImpl.kt:83)",
      "\tat kotlin.concurrent.ThreadsKt$thread$thread$1.run(Thread.kt:30)",
      "",
      "java.lang.IllegalStateException: Collected 2",
      "at Cell In[50], line 7"
     ]
    }
   ],
   "execution_count": 50,
   "source": [
    "fun simple(): Flow<Int> = (1..3).asFlow()\n",
    "\n",
    "runBlocking<Unit> {\n",
    "    simple()\n",
    "        .onCompletion { cause -> println(\"Flow completed with $cause\") }\n",
    "        .collect { value ->\n",
    "            check(value <= 1) { \"Collected $value\" }\n",
    "            println(value)\n",
    "        }\n",
    "}"
   ]
  },
  {
   "metadata": {},
   "cell_type": "markdown",
   "source": [
    "## 启动流\n",
    "\n",
    "很容易使用流来表示来自某个源的异步事件。在这种情况下，我们需要一个类似于 `addEventListener` 函数的类比，它注册一段代码以响应传入事件并继续后续工作。`onEach` 操作符可以扮演这个角色。然而，`onEach` 是一个中间操作符。我们还需要一个终止操作符来收集流。否则，仅仅调用 `onEach` 没有效果。\n",
    "\n",
    "如果我们在 `onEach` 之后使用 `collect` 终止操作符，那么它后面的代码将等到流被收集为止："
   ]
  },
  {
   "metadata": {
    "ExecuteTime": {
     "end_time": "2025-08-26T10:20:05.782663Z",
     "start_time": "2025-08-10T13:04:21.964796Z"
    }
   },
   "cell_type": "code",
   "outputs": [
    {
     "name": "stdout",
     "output_type": "stream",
     "text": [
      "Event: 1\n",
      "Event: 2\n",
      "Event: 3\n",
      "Done\n"
     ]
    }
   ],
   "execution_count": 51,
   "source": [
    "// Imitate a flow of events\n",
    "fun events(): Flow<Int> = (1..3).asFlow().onEach { delay(100) }\n",
    "\n",
    "runBlocking<Unit> {\n",
    "    events()\n",
    "        .onEach { event -> println(\"Event: $event\") }\n",
    "        .collect() // <--- Collecting the flow waits\n",
    "    println(\"Done\")\n",
    "}"
   ]
  },
  {
   "metadata": {},
   "cell_type": "markdown",
   "source": "`launchIn` 终止操作符在这里派上用场。通过将 `collect` 替换为 `launchIn`，我们可以在单独的协程中启动流的收集，这样后续代码的执行立即继续："
  },
  {
   "metadata": {
    "ExecuteTime": {
     "end_time": "2025-08-26T10:20:05.782776Z",
     "start_time": "2025-08-10T13:04:57.597775Z"
    }
   },
   "cell_type": "code",
   "outputs": [
    {
     "name": "stdout",
     "output_type": "stream",
     "text": [
      "Done\n",
      "Event: 1\n",
      "Event: 2\n",
      "Event: 3\n"
     ]
    }
   ],
   "execution_count": 52,
   "source": [
    "// Imitate a flow of events\n",
    "fun events(): Flow<Int> = (1..3).asFlow().onEach { delay(100) }\n",
    "\n",
    "runBlocking<Unit> {\n",
    "    events()\n",
    "        .onEach { event -> println(\"Event: $event\") }\n",
    "        .launchIn(this) // <--- Launching the flow in a separate coroutine\n",
    "    println(\"Done\")\n",
    "}"
   ]
  },
  {
   "metadata": {},
   "cell_type": "markdown",
   "source": [
    "`launchIn` 的必需参数必须指定一个 `CoroutineScope`，用于启动收集流的协程。在上面的示例中，这个作用域来自 `runBlocking` 协程构建器，因此当流运行时，这个 `runBlocking` 作用域会等待其子协程完成，并阻止 `main` 函数返回并终止此示例。\n",
    "\n",
    "在实际应用中，作用域将来自具有有限生命周期的实体。一旦此实体的生命周期终止，相应的作用域就会被取消，从而取消相应流的收集。这样，`onEach { ... }.launchIn(scope)` 组合就像 `addEventListener` 一样工作。然而，不需要相应的 `removeEventListener` 函数，因为取消和结构化并发可以达到这个目的。\n",
    "\n",
    "请注意，`launchIn` 也返回一个 `Job`，它可以用于仅 取消 相应的流收集协程，而不取消整个作用域，或者 `join` 它。"
   ]
  },
  {
   "metadata": {},
   "cell_type": "markdown",
   "source": [
    "## 流取消检查\n",
    "\n",
    "为了方便，`flow` 构建器对每个发出的值执行额外的 `ensureActive` 取消检查。这意味着从 `flow { ... }` 发出值的繁忙循环是可取消的："
   ]
  },
  {
   "metadata": {
    "ExecuteTime": {
     "end_time": "2025-08-26T10:20:05.782890Z",
     "start_time": "2025-08-10T13:06:34.927257Z"
    }
   },
   "cell_type": "code",
   "outputs": [
    {
     "name": "stdout",
     "output_type": "stream",
     "text": [
      "Emitting 1\n",
      "1\n",
      "Emitting 2\n",
      "2\n",
      "Emitting 3\n",
      "3\n",
      "Emitting 4\n"
     ]
    },
    {
     "ename": "kotlinx.coroutines.JobCancellationException",
     "evalue": "BlockingCoroutine was cancelled",
     "output_type": "error",
     "traceback": [
      "kotlinx.coroutines.JobCancellationException: BlockingCoroutine was cancelled; job=\"coroutine#89\":BlockingCoroutine{Cancelled}@72367681",
      "\tat kotlinx.coroutines.JobSupport.cancel(JobSupport.kt:1685)",
      "\tat kotlinx.coroutines.CoroutineScopeKt.cancel(CoroutineScope.kt:309)",
      "\tat kotlinx.coroutines.CoroutineScopeKt.cancel$default(CoroutineScope.kt:307)",
      "\tat Line_54_jupyter$1$1.emit(Line_54.jupyter.kts:10) at Cell In[53], line 10",
      "\tat Line_54_jupyter$1$1.emit(Line_54.jupyter.kts:9) at Cell In[53], line 9",
      "\tat kotlinx.coroutines.flow.internal.SafeCollectorKt$emitFun$1.invoke(SafeCollector.kt:11)",
      "\tat kotlinx.coroutines.flow.internal.SafeCollectorKt$emitFun$1.invoke(SafeCollector.kt:11)",
      "\tat kotlinx.coroutines.flow.internal.SafeCollector.emit(SafeCollector.kt:113)",
      "\tat kotlinx.coroutines.flow.internal.SafeCollector.emit(SafeCollector.kt:82)",
      "\tat Line_54_jupyter$foo$1.invokeSuspend(Line_54.jupyter.kts:4) at Cell In[53], line 4",
      "\tat Line_54_jupyter$foo$1.invoke(Line_54.jupyter.kts)",
      "\tat Line_54_jupyter$foo$1.invoke(Line_54.jupyter.kts)",
      "\tat kotlinx.coroutines.flow.SafeFlow.collectSafely(Builders.kt:57)",
      "\tat kotlinx.coroutines.flow.AbstractFlow.collect(Flow.kt:226)",
      "\tat Line_54_jupyter$1.invokeSuspend(Line_54.jupyter.kts:9) at Cell In[53], line 9",
      "\tat kotlin.coroutines.jvm.internal.BaseContinuationImpl.resumeWith(ContinuationImpl.kt:34)",
      "\tat kotlinx.coroutines.DispatchedTask.run(DispatchedTask.kt:100)",
      "\tat kotlinx.coroutines.EventLoopImplBase.processNextEvent(EventLoop.common.kt:263)",
      "\tat kotlinx.coroutines.BlockingCoroutine.joinBlocking(Builders.kt:94)",
      "\tat kotlinx.coroutines.BuildersKt__BuildersKt.runBlocking(Builders.kt:70)",
      "\tat kotlinx.coroutines.BuildersKt.runBlocking(Unknown Source)",
      "\tat kotlinx.coroutines.BuildersKt__BuildersKt.runBlocking$default(Builders.kt:48)",
      "\tat kotlinx.coroutines.BuildersKt.runBlocking$default(Unknown Source)",
      "\tat Line_54_jupyter.<init>(Line_54.jupyter.kts:8) at Cell In[53], line 8",
      "\tat java.base/jdk.internal.reflect.DirectConstructorHandleAccessor.newInstance(Unknown Source)",
      "\tat java.base/java.lang.reflect.Constructor.newInstanceWithCaller(Unknown Source)",
      "\tat java.base/java.lang.reflect.Constructor.newInstance(Unknown Source)",
      "\tat kotlin.script.experimental.jvm.BasicJvmScriptEvaluator.evalWithConfigAndOtherScriptsResults(BasicJvmScriptEvaluator.kt:122)",
      "\tat kotlin.script.experimental.jvm.BasicJvmScriptEvaluator.invoke$suspendImpl(BasicJvmScriptEvaluator.kt:48)",
      "\tat kotlin.script.experimental.jvm.BasicJvmScriptEvaluator.invoke(BasicJvmScriptEvaluator.kt)",
      "\tat kotlin.script.experimental.jvm.BasicJvmReplEvaluator.eval(BasicJvmReplEvaluator.kt:49)",
      "\tat org.jetbrains.kotlinx.jupyter.repl.impl.InternalEvaluatorImpl$eval$resultWithDiagnostics$1.invokeSuspend(InternalEvaluatorImpl.kt:138)",
      "\tat kotlin.coroutines.jvm.internal.BaseContinuationImpl.resumeWith(ContinuationImpl.kt:34)",
      "\tat kotlinx.coroutines.DispatchedTask.run(DispatchedTask.kt:100)",
      "\tat kotlinx.coroutines.EventLoopImplBase.processNextEvent(EventLoop.common.kt:263)",
      "\tat kotlinx.coroutines.BlockingCoroutine.joinBlocking(Builders.kt:95)",
      "\tat kotlinx.coroutines.BuildersKt__BuildersKt.runBlocking(Builders.kt:69)",
      "\tat kotlinx.coroutines.BuildersKt.runBlocking(Unknown Source)",
      "\tat kotlinx.coroutines.BuildersKt__BuildersKt.runBlocking$default(Builders.kt:47)",
      "\tat kotlinx.coroutines.BuildersKt.runBlocking$default(Unknown Source)",
      "\tat org.jetbrains.kotlinx.jupyter.repl.impl.InternalEvaluatorImpl.eval(InternalEvaluatorImpl.kt:138)",
      "\tat org.jetbrains.kotlinx.jupyter.repl.impl.CellExecutorImpl.execute_L4Nmkdk$lambda$9$lambda$1(CellExecutorImpl.kt:80)",
      "\tat org.jetbrains.kotlinx.jupyter.repl.impl.ReplForJupyterImpl.withHost(ReplForJupyterImpl.kt:794)",
      "\tat org.jetbrains.kotlinx.jupyter.repl.impl.CellExecutorImpl.execute-L4Nmkdk(CellExecutorImpl.kt:78)",
      "\tat org.jetbrains.kotlinx.jupyter.repl.execution.CellExecutor.execute-L4Nmkdk$default(CellExecutor.kt:14)",
      "\tat org.jetbrains.kotlinx.jupyter.repl.impl.ReplForJupyterImpl.evaluateUserCode-wNURfNM(ReplForJupyterImpl.kt:616)",
      "\tat org.jetbrains.kotlinx.jupyter.repl.impl.ReplForJupyterImpl.evalExImpl(ReplForJupyterImpl.kt:474)",
      "\tat org.jetbrains.kotlinx.jupyter.repl.impl.ReplForJupyterImpl.evalEx$lambda$20(ReplForJupyterImpl.kt:467)",
      "\tat org.jetbrains.kotlinx.jupyter.repl.impl.ReplForJupyterImpl.withEvalContext(ReplForJupyterImpl.kt:447)",
      "\tat org.jetbrains.kotlinx.jupyter.repl.impl.ReplForJupyterImpl.evalEx(ReplForJupyterImpl.kt:466)",
      "\tat org.jetbrains.kotlinx.jupyter.messaging.IdeCompatibleMessageRequestProcessor.processExecuteRequest$lambda$7$lambda$6$lambda$5(IdeCompatibleMessageRequestProcessor.kt:160)",
      "\tat org.jetbrains.kotlinx.jupyter.streams.BlockingSubstitutionEngine.withDataSubstitution(SubstitutionEngine.kt:70)",
      "\tat org.jetbrains.kotlinx.jupyter.streams.StreamSubstitutionManager.withSubstitutedStreams(StreamSubstitutionManager.kt:118)",
      "\tat org.jetbrains.kotlinx.jupyter.messaging.IdeCompatibleMessageRequestProcessor.withForkedIn(IdeCompatibleMessageRequestProcessor.kt:354)",
      "\tat org.jetbrains.kotlinx.jupyter.messaging.IdeCompatibleMessageRequestProcessor.evalWithIO$lambda$16$lambda$15(IdeCompatibleMessageRequestProcessor.kt:368)",
      "\tat org.jetbrains.kotlinx.jupyter.streams.BlockingSubstitutionEngine.withDataSubstitution(SubstitutionEngine.kt:70)",
      "\tat org.jetbrains.kotlinx.jupyter.streams.StreamSubstitutionManager.withSubstitutedStreams(StreamSubstitutionManager.kt:118)",
      "\tat org.jetbrains.kotlinx.jupyter.messaging.IdeCompatibleMessageRequestProcessor.withForkedErr(IdeCompatibleMessageRequestProcessor.kt:343)",
      "\tat org.jetbrains.kotlinx.jupyter.messaging.IdeCompatibleMessageRequestProcessor.evalWithIO$lambda$16(IdeCompatibleMessageRequestProcessor.kt:367)",
      "\tat org.jetbrains.kotlinx.jupyter.streams.BlockingSubstitutionEngine.withDataSubstitution(SubstitutionEngine.kt:70)",
      "\tat org.jetbrains.kotlinx.jupyter.streams.StreamSubstitutionManager.withSubstitutedStreams(StreamSubstitutionManager.kt:118)",
      "\tat org.jetbrains.kotlinx.jupyter.messaging.IdeCompatibleMessageRequestProcessor.withForkedOut(IdeCompatibleMessageRequestProcessor.kt:335)",
      "\tat org.jetbrains.kotlinx.jupyter.messaging.IdeCompatibleMessageRequestProcessor.evalWithIO(IdeCompatibleMessageRequestProcessor.kt:366)",
      "\tat org.jetbrains.kotlinx.jupyter.messaging.IdeCompatibleMessageRequestProcessor.processExecuteRequest$lambda$7$lambda$6(IdeCompatibleMessageRequestProcessor.kt:159)",
      "\tat org.jetbrains.kotlinx.jupyter.execution.JupyterExecutorImpl$Task.execute(JupyterExecutorImpl.kt:41)",
      "\tat org.jetbrains.kotlinx.jupyter.execution.JupyterExecutorImpl.executorThread$lambda$0(JupyterExecutorImpl.kt:83)",
      "\tat kotlin.concurrent.ThreadsKt$thread$thread$1.run(Thread.kt:30)",
      "",
      "kotlinx.coroutines.JobCancellationException: BlockingCoroutine was cancelled",
      "at Cell In[53], line 10"
     ]
    }
   ],
   "execution_count": 53,
   "source": [
    "fun foo(): Flow<Int> = flow {\n",
    "    for (i in 1..5) {\n",
    "        println(\"Emitting $i\")\n",
    "        emit(i)\n",
    "    }\n",
    "}\n",
    "\n",
    "runBlocking<Unit> {\n",
    "    foo().collect { value ->\n",
    "        if (value == 3) cancel()\n",
    "        println(value)\n",
    "    }\n",
    "}"
   ]
  },
  {
   "metadata": {},
   "cell_type": "markdown",
   "source": "然而，出于性能原因，大多数其他流操作符不会自行执行额外的取消检查。例如，如果你使用 `IntRange.asFlow` 扩展来编写相同的繁忙循环并且不挂起任何地方，那么就没有取消检查："
  },
  {
   "metadata": {
    "ExecuteTime": {
     "end_time": "2025-08-26T10:20:05.783046Z",
     "start_time": "2025-08-10T13:07:40.066872Z"
    }
   },
   "cell_type": "code",
   "outputs": [
    {
     "name": "stdout",
     "output_type": "stream",
     "text": [
      "1\n",
      "2\n",
      "3\n",
      "4\n",
      "5\n"
     ]
    },
    {
     "ename": "kotlinx.coroutines.JobCancellationException",
     "evalue": "BlockingCoroutine was cancelled",
     "output_type": "error",
     "traceback": [
      "kotlinx.coroutines.JobCancellationException: BlockingCoroutine was cancelled; job=\"coroutine#90\":BlockingCoroutine{Cancelled}@2fc03ec9",
      "\tat kotlinx.coroutines.JobSupport.cancel(JobSupport.kt:1685)",
      "\tat kotlinx.coroutines.CoroutineScopeKt.cancel(CoroutineScope.kt:309)",
      "\tat kotlinx.coroutines.CoroutineScopeKt.cancel$default(CoroutineScope.kt:307)",
      "\tat Line_55_jupyter$1$1.emit(Line_55.jupyter.kts:3) at Cell In[54], line 3",
      "\tat Line_55_jupyter$1$1.emit(Line_55.jupyter.kts:2) at Cell In[54], line 2",
      "\tat kotlinx.coroutines.flow.FlowKt__BuildersKt$asFlow$$inlined$unsafeFlow$9.collect(SafeCollector.common.kt:111)",
      "\tat Line_55_jupyter$1.invokeSuspend(Line_55.jupyter.kts:2) at Cell In[54], line 2",
      "\tat kotlin.coroutines.jvm.internal.BaseContinuationImpl.resumeWith(ContinuationImpl.kt:34)",
      "\tat kotlinx.coroutines.DispatchedTask.run(DispatchedTask.kt:100)",
      "\tat kotlinx.coroutines.EventLoopImplBase.processNextEvent(EventLoop.common.kt:263)",
      "\tat kotlinx.coroutines.BlockingCoroutine.joinBlocking(Builders.kt:94)",
      "\tat kotlinx.coroutines.BuildersKt__BuildersKt.runBlocking(Builders.kt:70)",
      "\tat kotlinx.coroutines.BuildersKt.runBlocking(Unknown Source)",
      "\tat kotlinx.coroutines.BuildersKt__BuildersKt.runBlocking$default(Builders.kt:48)",
      "\tat kotlinx.coroutines.BuildersKt.runBlocking$default(Unknown Source)",
      "\tat Line_55_jupyter.<init>(Line_55.jupyter.kts:1) at Cell In[54], line 1",
      "\tat java.base/jdk.internal.reflect.DirectConstructorHandleAccessor.newInstance(Unknown Source)",
      "\tat java.base/java.lang.reflect.Constructor.newInstanceWithCaller(Unknown Source)",
      "\tat java.base/java.lang.reflect.Constructor.newInstance(Unknown Source)",
      "\tat kotlin.script.experimental.jvm.BasicJvmScriptEvaluator.evalWithConfigAndOtherScriptsResults(BasicJvmScriptEvaluator.kt:122)",
      "\tat kotlin.script.experimental.jvm.BasicJvmScriptEvaluator.invoke$suspendImpl(BasicJvmScriptEvaluator.kt:48)",
      "\tat kotlin.script.experimental.jvm.BasicJvmScriptEvaluator.invoke(BasicJvmScriptEvaluator.kt)",
      "\tat kotlin.script.experimental.jvm.BasicJvmReplEvaluator.eval(BasicJvmReplEvaluator.kt:49)",
      "\tat org.jetbrains.kotlinx.jupyter.repl.impl.InternalEvaluatorImpl$eval$resultWithDiagnostics$1.invokeSuspend(InternalEvaluatorImpl.kt:138)",
      "\tat kotlin.coroutines.jvm.internal.BaseContinuationImpl.resumeWith(ContinuationImpl.kt:34)",
      "\tat kotlinx.coroutines.DispatchedTask.run(DispatchedTask.kt:100)",
      "\tat kotlinx.coroutines.EventLoopImplBase.processNextEvent(EventLoop.common.kt:263)",
      "\tat kotlinx.coroutines.BlockingCoroutine.joinBlocking(Builders.kt:95)",
      "\tat kotlinx.coroutines.BuildersKt__BuildersKt.runBlocking(Builders.kt:69)",
      "\tat kotlinx.coroutines.BuildersKt.runBlocking(Unknown Source)",
      "\tat kotlinx.coroutines.BuildersKt__BuildersKt.runBlocking$default(Builders.kt:47)",
      "\tat kotlinx.coroutines.BuildersKt.runBlocking$default(Unknown Source)",
      "\tat org.jetbrains.kotlinx.jupyter.repl.impl.InternalEvaluatorImpl.eval(InternalEvaluatorImpl.kt:138)",
      "\tat org.jetbrains.kotlinx.jupyter.repl.impl.CellExecutorImpl.execute_L4Nmkdk$lambda$9$lambda$1(CellExecutorImpl.kt:80)",
      "\tat org.jetbrains.kotlinx.jupyter.repl.impl.ReplForJupyterImpl.withHost(ReplForJupyterImpl.kt:794)",
      "\tat org.jetbrains.kotlinx.jupyter.repl.impl.CellExecutorImpl.execute-L4Nmkdk(CellExecutorImpl.kt:78)",
      "\tat org.jetbrains.kotlinx.jupyter.repl.execution.CellExecutor.execute-L4Nmkdk$default(CellExecutor.kt:14)",
      "\tat org.jetbrains.kotlinx.jupyter.repl.impl.ReplForJupyterImpl.evaluateUserCode-wNURfNM(ReplForJupyterImpl.kt:616)",
      "\tat org.jetbrains.kotlinx.jupyter.repl.impl.ReplForJupyterImpl.evalExImpl(ReplForJupyterImpl.kt:474)",
      "\tat org.jetbrains.kotlinx.jupyter.repl.impl.ReplForJupyterImpl.evalEx$lambda$20(ReplForJupyterImpl.kt:467)",
      "\tat org.jetbrains.kotlinx.jupyter.repl.impl.ReplForJupyterImpl.withEvalContext(ReplForJupyterImpl.kt:447)",
      "\tat org.jetbrains.kotlinx.jupyter.repl.impl.ReplForJupyterImpl.evalEx(ReplForJupyterImpl.kt:466)",
      "\tat org.jetbrains.kotlinx.jupyter.messaging.IdeCompatibleMessageRequestProcessor.processExecuteRequest$lambda$7$lambda$6$lambda$5(IdeCompatibleMessageRequestProcessor.kt:160)",
      "\tat org.jetbrains.kotlinx.jupyter.streams.BlockingSubstitutionEngine.withDataSubstitution(SubstitutionEngine.kt:70)",
      "\tat org.jetbrains.kotlinx.jupyter.streams.StreamSubstitutionManager.withSubstitutedStreams(StreamSubstitutionManager.kt:118)",
      "\tat org.jetbrains.kotlinx.jupyter.messaging.IdeCompatibleMessageRequestProcessor.withForkedIn(IdeCompatibleMessageRequestProcessor.kt:354)",
      "\tat org.jetbrains.kotlinx.jupyter.messaging.IdeCompatibleMessageRequestProcessor.evalWithIO$lambda$16$lambda$15(IdeCompatibleMessageRequestProcessor.kt:368)",
      "\tat org.jetbrains.kotlinx.jupyter.streams.BlockingSubstitutionEngine.withDataSubstitution(SubstitutionEngine.kt:70)",
      "\tat org.jetbrains.kotlinx.jupyter.streams.StreamSubstitutionManager.withSubstitutedStreams(StreamSubstitutionManager.kt:118)",
      "\tat org.jetbrains.kotlinx.jupyter.messaging.IdeCompatibleMessageRequestProcessor.withForkedErr(IdeCompatibleMessageRequestProcessor.kt:343)",
      "\tat org.jetbrains.kotlinx.jupyter.messaging.IdeCompatibleMessageRequestProcessor.evalWithIO$lambda$16(IdeCompatibleMessageRequestProcessor.kt:367)",
      "\tat org.jetbrains.kotlinx.jupyter.streams.BlockingSubstitutionEngine.withDataSubstitution(SubstitutionEngine.kt:70)",
      "\tat org.jetbrains.kotlinx.jupyter.streams.StreamSubstitutionManager.withSubstitutedStreams(StreamSubstitutionManager.kt:118)",
      "\tat org.jetbrains.kotlinx.jupyter.messaging.IdeCompatibleMessageRequestProcessor.withForkedOut(IdeCompatibleMessageRequestProcessor.kt:335)",
      "\tat org.jetbrains.kotlinx.jupyter.messaging.IdeCompatibleMessageRequestProcessor.evalWithIO(IdeCompatibleMessageRequestProcessor.kt:366)",
      "\tat org.jetbrains.kotlinx.jupyter.messaging.IdeCompatibleMessageRequestProcessor.processExecuteRequest$lambda$7$lambda$6(IdeCompatibleMessageRequestProcessor.kt:159)",
      "\tat org.jetbrains.kotlinx.jupyter.execution.JupyterExecutorImpl$Task.execute(JupyterExecutorImpl.kt:41)",
      "\tat org.jetbrains.kotlinx.jupyter.execution.JupyterExecutorImpl.executorThread$lambda$0(JupyterExecutorImpl.kt:83)",
      "\tat kotlin.concurrent.ThreadsKt$thread$thread$1.run(Thread.kt:30)",
      "",
      "kotlinx.coroutines.JobCancellationException: BlockingCoroutine was cancelled",
      "at Cell In[54], line 3"
     ]
    }
   ],
   "execution_count": 54,
   "source": [
    "runBlocking<Unit> {\n",
    "    (1..5).asFlow().collect { value ->\n",
    "        if (value == 3) cancel()\n",
    "        println(value)\n",
    "    }\n",
    "}"
   ]
  },
  {
   "metadata": {},
   "cell_type": "markdown",
   "source": [
    "## 使繁忙的流可取消\n",
    "\n",
    "在您有带有协程的繁忙循环的情况下，您必须显式检查取消。您可以添加 `.onEach { currentCoroutineContext().ensureActive() }`，但有一个开箱即用的 `cancellable` 操作符可供使用："
   ]
  },
  {
   "metadata": {
    "ExecuteTime": {
     "end_time": "2025-08-26T10:20:05.783241Z",
     "start_time": "2025-08-10T13:08:41.929200Z"
    }
   },
   "cell_type": "code",
   "outputs": [
    {
     "name": "stdout",
     "output_type": "stream",
     "text": [
      "1\n",
      "2\n",
      "3\n"
     ]
    },
    {
     "ename": "kotlinx.coroutines.JobCancellationException",
     "evalue": "BlockingCoroutine was cancelled",
     "output_type": "error",
     "traceback": [
      "kotlinx.coroutines.JobCancellationException: BlockingCoroutine was cancelled; job=\"coroutine#91\":BlockingCoroutine{Cancelled}@486df746",
      "\tat kotlinx.coroutines.JobSupport.cancel(JobSupport.kt:1685)",
      "\tat kotlinx.coroutines.CoroutineScopeKt.cancel(CoroutineScope.kt:309)",
      "\tat kotlinx.coroutines.CoroutineScopeKt.cancel$default(CoroutineScope.kt:307)",
      "\tat Line_56_jupyter$1$1.emit(Line_56.jupyter.kts:3) at Cell In[55], line 3",
      "\tat Line_56_jupyter$1$1.emit(Line_56.jupyter.kts:2) at Cell In[55], line 2",
      "\tat kotlinx.coroutines.flow.CancellableFlowImpl$collect$2.emit(Context.kt:278)",
      "\tat kotlinx.coroutines.flow.FlowKt__BuildersKt$asFlow$$inlined$unsafeFlow$9.collect(SafeCollector.common.kt:111)",
      "\tat kotlinx.coroutines.flow.CancellableFlowImpl.collect(Context.kt:276)",
      "\tat Line_56_jupyter$1.invokeSuspend(Line_56.jupyter.kts:2) at Cell In[55], line 2",
      "\tat kotlin.coroutines.jvm.internal.BaseContinuationImpl.resumeWith(ContinuationImpl.kt:34)",
      "\tat kotlinx.coroutines.DispatchedTask.run(DispatchedTask.kt:100)",
      "\tat kotlinx.coroutines.EventLoopImplBase.processNextEvent(EventLoop.common.kt:263)",
      "\tat kotlinx.coroutines.BlockingCoroutine.joinBlocking(Builders.kt:94)",
      "\tat kotlinx.coroutines.BuildersKt__BuildersKt.runBlocking(Builders.kt:70)",
      "\tat kotlinx.coroutines.BuildersKt.runBlocking(Unknown Source)",
      "\tat kotlinx.coroutines.BuildersKt__BuildersKt.runBlocking$default(Builders.kt:48)",
      "\tat kotlinx.coroutines.BuildersKt.runBlocking$default(Unknown Source)",
      "\tat Line_56_jupyter.<init>(Line_56.jupyter.kts:1) at Cell In[55], line 1",
      "\tat java.base/jdk.internal.reflect.DirectConstructorHandleAccessor.newInstance(Unknown Source)",
      "\tat java.base/java.lang.reflect.Constructor.newInstanceWithCaller(Unknown Source)",
      "\tat java.base/java.lang.reflect.Constructor.newInstance(Unknown Source)",
      "\tat kotlin.script.experimental.jvm.BasicJvmScriptEvaluator.evalWithConfigAndOtherScriptsResults(BasicJvmScriptEvaluator.kt:122)",
      "\tat kotlin.script.experimental.jvm.BasicJvmScriptEvaluator.invoke$suspendImpl(BasicJvmScriptEvaluator.kt:48)",
      "\tat kotlin.script.experimental.jvm.BasicJvmScriptEvaluator.invoke(BasicJvmScriptEvaluator.kt)",
      "\tat kotlin.script.experimental.jvm.BasicJvmReplEvaluator.eval(BasicJvmReplEvaluator.kt:49)",
      "\tat org.jetbrains.kotlinx.jupyter.repl.impl.InternalEvaluatorImpl$eval$resultWithDiagnostics$1.invokeSuspend(InternalEvaluatorImpl.kt:138)",
      "\tat kotlin.coroutines.jvm.internal.BaseContinuationImpl.resumeWith(ContinuationImpl.kt:34)",
      "\tat kotlinx.coroutines.DispatchedTask.run(DispatchedTask.kt:100)",
      "\tat kotlinx.coroutines.EventLoopImplBase.processNextEvent(EventLoop.common.kt:263)",
      "\tat kotlinx.coroutines.BlockingCoroutine.joinBlocking(Builders.kt:95)",
      "\tat kotlinx.coroutines.BuildersKt__BuildersKt.runBlocking(Builders.kt:69)",
      "\tat kotlinx.coroutines.BuildersKt.runBlocking(Unknown Source)",
      "\tat kotlinx.coroutines.BuildersKt__BuildersKt.runBlocking$default(Builders.kt:47)",
      "\tat kotlinx.coroutines.BuildersKt.runBlocking$default(Unknown Source)",
      "\tat org.jetbrains.kotlinx.jupyter.repl.impl.InternalEvaluatorImpl.eval(InternalEvaluatorImpl.kt:138)",
      "\tat org.jetbrains.kotlinx.jupyter.repl.impl.CellExecutorImpl.execute_L4Nmkdk$lambda$9$lambda$1(CellExecutorImpl.kt:80)",
      "\tat org.jetbrains.kotlinx.jupyter.repl.impl.ReplForJupyterImpl.withHost(ReplForJupyterImpl.kt:794)",
      "\tat org.jetbrains.kotlinx.jupyter.repl.impl.CellExecutorImpl.execute-L4Nmkdk(CellExecutorImpl.kt:78)",
      "\tat org.jetbrains.kotlinx.jupyter.repl.execution.CellExecutor.execute-L4Nmkdk$default(CellExecutor.kt:14)",
      "\tat org.jetbrains.kotlinx.jupyter.repl.impl.ReplForJupyterImpl.evaluateUserCode-wNURfNM(ReplForJupyterImpl.kt:616)",
      "\tat org.jetbrains.kotlinx.jupyter.repl.impl.ReplForJupyterImpl.evalExImpl(ReplForJupyterImpl.kt:474)",
      "\tat org.jetbrains.kotlinx.jupyter.repl.impl.ReplForJupyterImpl.evalEx$lambda$20(ReplForJupyterImpl.kt:467)",
      "\tat org.jetbrains.kotlinx.jupyter.repl.impl.ReplForJupyterImpl.withEvalContext(ReplForJupyterImpl.kt:447)",
      "\tat org.jetbrains.kotlinx.jupyter.repl.impl.ReplForJupyterImpl.evalEx(ReplForJupyterImpl.kt:466)",
      "\tat org.jetbrains.kotlinx.jupyter.messaging.IdeCompatibleMessageRequestProcessor.processExecuteRequest$lambda$7$lambda$6$lambda$5(IdeCompatibleMessageRequestProcessor.kt:160)",
      "\tat org.jetbrains.kotlinx.jupyter.streams.BlockingSubstitutionEngine.withDataSubstitution(SubstitutionEngine.kt:70)",
      "\tat org.jetbrains.kotlinx.jupyter.streams.StreamSubstitutionManager.withSubstitutedStreams(StreamSubstitutionManager.kt:118)",
      "\tat org.jetbrains.kotlinx.jupyter.messaging.IdeCompatibleMessageRequestProcessor.withForkedIn(IdeCompatibleMessageRequestProcessor.kt:354)",
      "\tat org.jetbrains.kotlinx.jupyter.messaging.IdeCompatibleMessageRequestProcessor.evalWithIO$lambda$16$lambda$15(IdeCompatibleMessageRequestProcessor.kt:368)",
      "\tat org.jetbrains.kotlinx.jupyter.streams.BlockingSubstitutionEngine.withDataSubstitution(SubstitutionEngine.kt:70)",
      "\tat org.jetbrains.kotlinx.jupyter.streams.StreamSubstitutionManager.withSubstitutedStreams(StreamSubstitutionManager.kt:118)",
      "\tat org.jetbrains.kotlinx.jupyter.messaging.IdeCompatibleMessageRequestProcessor.withForkedErr(IdeCompatibleMessageRequestProcessor.kt:343)",
      "\tat org.jetbrains.kotlinx.jupyter.messaging.IdeCompatibleMessageRequestProcessor.evalWithIO$lambda$16(IdeCompatibleMessageRequestProcessor.kt:367)",
      "\tat org.jetbrains.kotlinx.jupyter.streams.BlockingSubstitutionEngine.withDataSubstitution(SubstitutionEngine.kt:70)",
      "\tat org.jetbrains.kotlinx.jupyter.streams.StreamSubstitutionManager.withSubstitutedStreams(StreamSubstitutionManager.kt:118)",
      "\tat org.jetbrains.kotlinx.jupyter.messaging.IdeCompatibleMessageRequestProcessor.withForkedOut(IdeCompatibleMessageRequestProcessor.kt:335)",
      "\tat org.jetbrains.kotlinx.jupyter.messaging.IdeCompatibleMessageRequestProcessor.evalWithIO(IdeCompatibleMessageRequestProcessor.kt:366)",
      "\tat org.jetbrains.kotlinx.jupyter.messaging.IdeCompatibleMessageRequestProcessor.processExecuteRequest$lambda$7$lambda$6(IdeCompatibleMessageRequestProcessor.kt:159)",
      "\tat org.jetbrains.kotlinx.jupyter.execution.JupyterExecutorImpl$Task.execute(JupyterExecutorImpl.kt:41)",
      "\tat org.jetbrains.kotlinx.jupyter.execution.JupyterExecutorImpl.executorThread$lambda$0(JupyterExecutorImpl.kt:83)",
      "\tat kotlin.concurrent.ThreadsKt$thread$thread$1.run(Thread.kt:30)",
      "",
      "kotlinx.coroutines.JobCancellationException: BlockingCoroutine was cancelled",
      "at Cell In[55], line 3"
     ]
    }
   ],
   "execution_count": 55,
   "source": [
    "runBlocking<Unit> {\n",
    "    (1..5).asFlow().cancellable().collect { value ->\n",
    "        if (value == 3) cancel()\n",
    "        println(value)\n",
    "    }\n",
    "}"
   ]
  },
  {
   "metadata": {},
   "cell_type": "markdown",
   "source": [
    "## 流 (Flow) 与响应式流 (Reactive Streams)\n",
    "\n",
    "对于熟悉 响应式流 (`Reactive Streams`) 或 `RxJava` 和 `Project Reactor` 等响应式框架的人来说，流 (`Flow`) 的设计可能看起来非常熟悉。\n",
    "\n",
    "确实，它的设计受到了响应式流及其各种实现的启发。但 `Flow` 的主要目标是拥有尽可能简单的设计，易于与 `Kotlin` 和挂起兼容，并尊重结构化并发。如果没有响应式领域的先驱者及其巨大的工作，实现这一目标将是不可能的。你可以在 Reactive Streams and Kotlin Flows 文章中阅读完整的故事。\n",
    "\n",
    "虽然概念上有所不同，但 `Flow` 是 一个响应式流，并且可以将其转换为响应式（符合规范和 TCK）的 Publisher，反之亦然。`kotlinx.coroutines` 开箱即用地提供了此类转换器，可以在相应的响应式模块中找到（`kotlinx-coroutines-reactive` 用于 `Reactive Streams`，`kotlinx-coroutines-reactor` 用于 `Project Reactor`，`kotlinx-coroutines-rx2/kotlinx-coroutines-rx3` 用于 `RxJava2/RxJava3`）。集成模块包括与 `Flow` 之间的转换、与 `Reactor` 的 `Context` 集成以及与各种响应式实体协作的挂起友好方式。"
   ]
  }
 ],
 "metadata": {
  "kernelspec": {
   "display_name": "Kotlin",
   "language": "kotlin",
   "name": "kotlin"
  },
  "language_info": {
   "name": "kotlin",
   "version": "2.2.20-dev-4982",
   "mimetype": "text/x-kotlin",
   "file_extension": ".kt",
   "pygments_lexer": "kotlin",
   "codemirror_mode": "text/x-kotlin",
   "nbconvert_exporter": ""
  }
 },
 "nbformat": 4,
 "nbformat_minor": 0
}
