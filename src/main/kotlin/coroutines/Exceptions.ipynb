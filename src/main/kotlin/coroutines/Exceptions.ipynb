{
 "cells": [
  {
   "metadata": {},
   "cell_type": "markdown",
   "source": "# 前置依赖"
  },
  {
   "metadata": {
    "collapsed": true,
    "ExecuteTime": {
     "end_time": "2025-08-26T15:04:44.637975Z",
     "start_time": "2025-08-26T15:04:42.849469Z"
    }
   },
   "cell_type": "code",
   "source": [
    "%useLatestDescriptors\n",
    "%use coroutines"
   ],
   "outputs": [],
   "execution_count": 1
  },
  {
   "metadata": {},
   "cell_type": "markdown",
   "source": [
    "# 协程异常处理\n",
    "\n",
    "本节涵盖异常处理以及异常时的取消。 我们已经知道，已取消的协程会在挂起点抛出 [`CancellationException`]，并且会被协程机制忽略。这里我们看看如果在取消期间抛出异常，或者同一协程的多个子协程抛出异常时会发生什么。\n",
    "\n",
    "异常传播\n",
    "协程构建器有两种类型：自动传播异常 ([`launch`]) 或将它们暴露给用户 ([`async`] 和 [`produce`])。 当这些构建器用于创建不是其他协程的_子_协程的_根_协程时，前者会将异常视为未捕获异常，类似于 Java 的 `Thread.uncaughtExceptionHandler`，而后者则依赖用户消费最终的异常，例如通过 [`await`][Deferred.await] 或 [`receive`][ReceiveChannel.receive]（[`produce`] 和 [`receive`][ReceiveChannel.receive] 在 Channels 部分中介绍）。\n",
    "\n",
    "这可以通过一个使用 [`GlobalScope`] 创建根协程的简单示例来演示：\n",
    "\n",
    "> NOTE\n",
    "> [`GlobalScope`] 是一个慎用的 API，可能会以复杂的方式产生意想不到的负面结果。为整个应用程序创建根协程是 `GlobalScope` 少数几个合理的使用场景之一，因此你必须通过 `@OptIn(DelicateCoroutinesApi::class)` 明确选择使用 `GlobalScope`。"
   ]
  },
  {
   "metadata": {
    "ExecuteTime": {
     "end_time": "2025-08-26T10:20:05.784287Z",
     "start_time": "2025-08-11T13:07:19.244354Z"
    }
   },
   "cell_type": "code",
   "outputs": [
    {
     "name": "stdout",
     "output_type": "stream",
     "text": [
      "Throwing exception from launch\n",
      "Joined failed job\n",
      "Throwing exception from async\n",
      "Caught ArithmeticException\n"
     ]
    }
   ],
   "execution_count": 66,
   "source": [
    "@OptIn(DelicateCoroutinesApi::class)\n",
    "runBlocking {\n",
    "    val job = GlobalScope.launch { // root coroutine with launch\n",
    "        println(\"Throwing exception from launch\")\n",
    "        throw IndexOutOfBoundsException() // Will be printed to the console by Thread.defaultUncaughtExceptionHandler\n",
    "    }\n",
    "    job.join()\n",
    "    println(\"Joined failed job\")\n",
    "    val deferred = GlobalScope.async { // root coroutine with async\n",
    "        println(\"Throwing exception from async\")\n",
    "        throw ArithmeticException() // Nothing is printed, relying on user to call await\n",
    "    }\n",
    "    try {\n",
    "        deferred.await()\n",
    "        println(\"Unreached\")\n",
    "    } catch (e: ArithmeticException) {\n",
    "        println(\"Caught ArithmeticException\")\n",
    "    }\n",
    "}"
   ]
  },
  {
   "metadata": {},
   "cell_type": "markdown",
   "source": [
    "## CoroutineExceptionHandler\n",
    "\n",
    "可以自定义将未捕获异常打印到控制台的默认行为。_根_协程上的 [`CoroutineExceptionHandler`] 上下文元素可用作此根协程及其所有子协程的通用 `catch` 块，用于处理自定义异常。 它类似于 `Thread.uncaughtExceptionHandler`。 你无法在 `CoroutineExceptionHandler` 中从异常中恢复。当处理程序被调用时，协程已经因相应的异常而完成。通常，该处理程序用于记录异常、显示某种错误消息、终止和/或重启应用程序。\n",
    "\n",
    "`CoroutineExceptionHandler` 仅对未捕获异常（即未以任何其他方式处理的异常）调用。 特别地，所有_子_协程（在另一个 [`Job`] 的上下文中创建的协程）都会将其异常处理委托给其父协程，后者又委托给其父协程，以此类推直到根协程，因此安装在它们上下文中的 `CoroutineExceptionHandler` 永远不会被使用。 此外，[`async`] 构建器总是捕获所有异常并在生成的 [`Deferred`] 对象中表示它们，因此其 `CoroutineExceptionHandler` 也无效。"
   ]
  },
  {
   "metadata": {
    "ExecuteTime": {
     "end_time": "2025-08-26T10:20:05.784375Z",
     "start_time": "2025-08-11T13:14:43.547127Z"
    }
   },
   "cell_type": "code",
   "outputs": [
    {
     "name": "stdout",
     "output_type": "stream",
     "text": [
      "CoroutineExceptionHandler got java.lang.AssertionError\n"
     ]
    }
   ],
   "execution_count": 67,
   "source": [
    "@OptIn(DelicateCoroutinesApi::class)\n",
    "runBlocking {\n",
    "    val handler = CoroutineExceptionHandler { _, exception ->\n",
    "        println(\"CoroutineExceptionHandler got $exception\")\n",
    "    }\n",
    "    val job = GlobalScope.launch(handler) { // root coroutine, running in GlobalScope\n",
    "        throw AssertionError()\n",
    "    }\n",
    "    val deferred = GlobalScope.async(handler) { // also root, but async instead of launch\n",
    "        throw ArithmeticException() // Nothing will be printed, relying on user to call deferred.await()\n",
    "    }\n",
    "    joinAll(job, deferred)\n",
    "}"
   ]
  },
  {
   "metadata": {},
   "cell_type": "markdown",
   "source": [
    "## 取消与异常\n",
    "\n",
    "取消与异常密切相关。协程内部使用 `CancellationException` 进行取消，这些异常被所有处理程序忽略，因此它们应该只用作额外调试信息的来源，可以通过 `catch` 块获取。 当协程使用 [`Job.cancel`] 取消时，它会终止，但不会取消其父级。"
   ]
  },
  {
   "metadata": {
    "ExecuteTime": {
     "end_time": "2025-08-26T10:20:05.784481Z",
     "start_time": "2025-08-11T13:16:13.924314Z"
    }
   },
   "cell_type": "code",
   "outputs": [
    {
     "name": "stdout",
     "output_type": "stream",
     "text": [
      "Cancelling child\n",
      "Child is cancelled\n",
      "Parent is not cancelled\n"
     ]
    }
   ],
   "execution_count": 68,
   "source": [
    "runBlocking {\n",
    "    val job = launch {\n",
    "        val child = launch {\n",
    "            try {\n",
    "                delay(Long.MAX_VALUE)\n",
    "            } finally {\n",
    "                println(\"Child is cancelled\")\n",
    "            }\n",
    "        }\n",
    "        yield()\n",
    "        println(\"Cancelling child\")\n",
    "        child.cancel()\n",
    "        child.join()\n",
    "        yield()\n",
    "        println(\"Parent is not cancelled\")\n",
    "    }\n",
    "    job.join()\n",
    "}"
   ]
  },
  {
   "metadata": {},
   "cell_type": "markdown",
   "source": [
    "如果协程遇到 `CancellationException` 以外的异常，它会用该异常取消其父级。此行为无法被覆盖，并用于为结构化并发提供稳定的协程层次结构。 [`CoroutineExceptionHandler`] 实现不用于子协程。\n",
    "\n",
    "> NOTE\n",
    "> 在这些示例中，[`CoroutineExceptionHandler`] 总是安装到在 [`GlobalScope`] 中创建的协程上。将异常处理程序安装到在主 [`runBlocking`] 范围内启动的协程是没有意义的，因为即使安装了处理程序，当其子协程因异常而完成时，主协程也总是会被取消。\n",
    "\n",
    "只有当所有子协程终止时，父协程才会处理原始异常，这由以下示例演示。"
   ]
  },
  {
   "metadata": {
    "ExecuteTime": {
     "end_time": "2025-08-26T10:20:05.784584Z",
     "start_time": "2025-08-11T13:19:44.918894Z"
    }
   },
   "cell_type": "code",
   "outputs": [
    {
     "name": "stdout",
     "output_type": "stream",
     "text": [
      "Second child throws an exception\n",
      "Children are cancelled, but exception is not handled until all children terminate\n",
      "The first child finished its non cancellable block\n",
      "CoroutineExceptionHandler got java.lang.ArithmeticException\n"
     ]
    }
   ],
   "execution_count": 69,
   "source": [
    "@OptIn(DelicateCoroutinesApi::class)\n",
    "runBlocking {\n",
    "    val handler = CoroutineExceptionHandler { _, exception ->\n",
    "        println(\"CoroutineExceptionHandler got $exception\")\n",
    "    }\n",
    "    val job = GlobalScope.launch(handler) {\n",
    "        launch { // the first child\n",
    "            try {\n",
    "                delay(Long.MAX_VALUE)\n",
    "            } finally {\n",
    "                withContext(NonCancellable) {\n",
    "                    println(\"Children are cancelled, but exception is not handled until all children terminate\")\n",
    "                    delay(100)\n",
    "                    println(\"The first child finished its non cancellable block\")\n",
    "                }\n",
    "            }\n",
    "        }\n",
    "        launch { // the second child\n",
    "            delay(10)\n",
    "            println(\"Second child throws an exception\")\n",
    "            throw ArithmeticException()\n",
    "        }\n",
    "    }\n",
    "    job.join()\n",
    "}"
   ]
  },
  {
   "metadata": {},
   "cell_type": "markdown",
   "source": [
    "## 异常聚合\n",
    "\n",
    "当一个协程的多个子协程因异常而失败时，一般规则是“第一个异常优先”，因此第一个异常得到处理。第一个异常之后发生的所有额外异常都作为被抑制的异常附加到第一个异常上。"
   ]
  },
  {
   "metadata": {
    "ExecuteTime": {
     "end_time": "2025-08-26T10:20:05.784720Z",
     "start_time": "2025-08-11T13:23:12.615328Z"
    }
   },
   "cell_type": "code",
   "outputs": [
    {
     "name": "stdout",
     "output_type": "stream",
     "text": [
      "CoroutineExceptionHandler got java.io.IOException with suppressed [java.lang.ArithmeticException]\n"
     ]
    }
   ],
   "execution_count": 72,
   "source": [
    "import java.io.IOException\n",
    "\n",
    "@OptIn(DelicateCoroutinesApi::class)\n",
    "runBlocking {\n",
    "    val handler = CoroutineExceptionHandler { _, exception ->\n",
    "        println(\"CoroutineExceptionHandler got $exception with suppressed ${exception.suppressed.contentToString()}\")\n",
    "    }\n",
    "    val job = GlobalScope.launch(handler) {\n",
    "        launch {\n",
    "            try {\n",
    "                delay(Long.MAX_VALUE) // it gets cancelled when another sibling fails with IOException\n",
    "            } finally {\n",
    "                throw ArithmeticException() // the second exception\n",
    "            }\n",
    "        }\n",
    "        launch {\n",
    "            delay(100)\n",
    "            throw IOException() // the first exception\n",
    "        }\n",
    "        delay(Long.MAX_VALUE)\n",
    "    }\n",
    "    job.join()\n",
    "}"
   ]
  },
  {
   "metadata": {},
   "cell_type": "markdown",
   "source": "取消异常是透明的，默认会被解包："
  },
  {
   "metadata": {
    "ExecuteTime": {
     "end_time": "2025-08-26T10:20:05.784836Z",
     "start_time": "2025-08-11T13:25:28.114694Z"
    }
   },
   "cell_type": "code",
   "outputs": [
    {
     "name": "stdout",
     "output_type": "stream",
     "text": [
      "Rethrowing CancellationException with original cause\n",
      "CoroutineExceptionHandler got java.lang.ArithmeticException\n"
     ]
    }
   ],
   "execution_count": 78,
   "source": [
    "@OptIn(DelicateCoroutinesApi::class)\n",
    "runBlocking {\n",
    "    val handler = CoroutineExceptionHandler { _, exception ->\n",
    "        println(\"CoroutineExceptionHandler got $exception\")\n",
    "    }\n",
    "    val job = GlobalScope.launch(handler) {\n",
    "        val innerJob = launch { // all this stack of coroutines will get cancelled\n",
    "            launch {\n",
    "                launch {\n",
    "                    throw IOException() // the original exception\n",
    "                }\n",
    "                launch {\n",
    "                    delay(100)\n",
    "                    throw ArithmeticException()\n",
    "                }\n",
    "            }\n",
    "        }\n",
    "        try {\n",
    "            innerJob.join()\n",
    "        } catch (e: CancellationException) {\n",
    "            println(\"Rethrowing CancellationException with original cause\")\n",
    "            throw e // cancellation exception is rethrown, yet the original IOException gets to the handler\n",
    "        }\n",
    "    }\n",
    "    job.join()\n",
    "}"
   ]
  },
  {
   "metadata": {},
   "cell_type": "markdown",
   "source": [
    "## Supervisor\n",
    "\n",
    "如前所述，取消是一种双向关系，在整个协程层次结构中传播。让我们来看看需要单向取消的情况。\n",
    "\n",
    "这种要求的一个很好的例子是其作用域中定义了作业的 UI 组件。如果 UI 的任何子任务失败，并不总是需要取消（实际上是终止）整个 UI 组件，但如果 UI 组件被销毁（且其作业被取消），则需要取消所有子作业，因为它们的结果不再需要。\n",
    "\n",
    "另一个例子是服务器进程，它产生多个子作业并需要_监管_它们的执行，跟踪它们的失败并只重启失败的作业。\n",
    "\n",
    "## 监管作业\n",
    "\n",
    "[`SupervisorJob`][SupervisorJob()] 可用于这些目的。它类似于普通的 [`Job`][Job()]，唯一的例外是取消仅向下传播。这可以通过以下示例轻松演示："
   ]
  },
  {
   "metadata": {
    "ExecuteTime": {
     "end_time": "2025-08-26T10:20:05.784942Z",
     "start_time": "2025-08-11T13:33:37.906549Z"
    }
   },
   "cell_type": "code",
   "outputs": [
    {
     "name": "stdout",
     "output_type": "stream",
     "text": [
      "The first child is failing\n",
      "The first child is cancelled: true, but the second one is still active\n",
      "Cancelling the supervisor\n",
      "The second child is cancelled because the supervisor was cancelled\n"
     ]
    }
   ],
   "execution_count": 82,
   "source": [
    "runBlocking {\n",
    "    val supervisor = SupervisorJob()\n",
    "    with(CoroutineScope(coroutineContext + supervisor)) {\n",
    "        // launch the first child -- its exception is ignored for this example (don't do this in practice!)\n",
    "        val firstChild = launch(CoroutineExceptionHandler { _, _ ->  }) {\n",
    "            println(\"The first child is failing\")\n",
    "            throw AssertionError(\"The first child is cancelled\")\n",
    "        }\n",
    "        // launch the second child\n",
    "        val secondChild = launch {\n",
    "            firstChild.join()\n",
    "            // Cancellation of the first child is not propagated to the second child\n",
    "            println(\"The first child is cancelled: ${firstChild.isCancelled}, but the second one is still active\")\n",
    "            try {\n",
    "                delay(Long.MAX_VALUE)\n",
    "            } finally {\n",
    "                // But cancellation of the supervisor is propagated\n",
    "                println(\"The second child is cancelled because the supervisor was cancelled\")\n",
    "            }\n",
    "        }\n",
    "        // wait until the first child fails & completes\n",
    "        firstChild.join()\n",
    "        println(\"Cancelling the supervisor\")\n",
    "        supervisor.cancel()\n",
    "        secondChild.join()\n",
    "    }\n",
    "}"
   ]
  },
  {
   "metadata": {},
   "cell_type": "markdown",
   "source": [
    "## Supervisor Scope\n",
    "\n",
    "除了 [`coroutineScope`]] 之外，我们还可以使用 [`supervisorScope`] 实现_作用域_并发。它只在一个方向上传播取消，并且只有当自身失败时才取消所有子协程。它也像 [`coroutineScope`] 一样，在完成之前等待所有子协程。"
   ]
  },
  {
   "metadata": {
    "ExecuteTime": {
     "end_time": "2025-08-26T10:20:05.785039Z",
     "start_time": "2025-08-11T13:37:25.270214Z"
    }
   },
   "cell_type": "code",
   "outputs": [
    {
     "name": "stdout",
     "output_type": "stream",
     "text": [
      "The child is sleeping\n",
      "Throwing an exception from the scope\n",
      "The child is cancelled\n",
      "Caught an assertion error\n"
     ]
    }
   ],
   "execution_count": 86,
   "source": [
    "runBlocking {\n",
    "    try {\n",
    "        supervisorScope {\n",
    "            val child = launch {\n",
    "                try {\n",
    "                    println(\"The child is sleeping\")\n",
    "                    delay(Long.MAX_VALUE)\n",
    "                } finally {\n",
    "                    println(\"The child is cancelled\")\n",
    "                }\n",
    "            }\n",
    "            // Give our child a chance to execute and print using yield\n",
    "            yield()\n",
    "            println(\"Throwing an exception from the scope\")\n",
    "            throw AssertionError()\n",
    "        }\n",
    "    } catch (e: AssertionError) {\n",
    "        println(\"Caught an assertion error\")\n",
    "    }\n",
    "}"
   ]
  },
  {
   "metadata": {},
   "cell_type": "markdown",
   "source": [
    "## 监管协程中的异常\n",
    "\n",
    "常规作业和监管作业之间的另一个关键区别是异常处理。 每个子协程都应该通过异常处理机制自己处理其异常。 这种差异源于子协程的失败不会传播给父协程。 这意味着直接在 [`supervisorScope`] 内启动的协程_确实_使用安装在其作用域中的 [`CoroutineExceptionHandler`]，与根协程的方式相同（详见 `CoroutineExceptionHandler` 部分）。"
   ]
  },
  {
   "metadata": {
    "ExecuteTime": {
     "end_time": "2025-08-26T10:20:05.785162Z",
     "start_time": "2025-08-11T13:39:29.602942Z"
    }
   },
   "cell_type": "code",
   "outputs": [
    {
     "name": "stdout",
     "output_type": "stream",
     "text": [
      "The scope is completing\n",
      "The child throws an exception\n",
      "CoroutineExceptionHandler got java.lang.AssertionError\n",
      "The scope is completed\n"
     ]
    }
   ],
   "execution_count": 88,
   "source": [
    "runBlocking {\n",
    "    val handler = CoroutineExceptionHandler { _, exception ->\n",
    "        println(\"CoroutineExceptionHandler got $exception\")\n",
    "    }\n",
    "    supervisorScope {\n",
    "        val child = launch(handler) {\n",
    "            println(\"The child throws an exception\")\n",
    "            throw AssertionError()\n",
    "        }\n",
    "        println(\"The scope is completing\")\n",
    "    }\n",
    "    println(\"The scope is completed\")\n",
    "}"
   ]
  }
 ],
 "metadata": {
  "kernelspec": {
   "display_name": "Kotlin",
   "language": "kotlin",
   "name": "kotlin"
  },
  "language_info": {
   "name": "kotlin",
   "version": "2.2.20-dev-4982",
   "mimetype": "text/x-kotlin",
   "file_extension": ".kt",
   "pygments_lexer": "kotlin",
   "codemirror_mode": "text/x-kotlin",
   "nbconvert_exporter": ""
  }
 },
 "nbformat": 4,
 "nbformat_minor": 0
}
