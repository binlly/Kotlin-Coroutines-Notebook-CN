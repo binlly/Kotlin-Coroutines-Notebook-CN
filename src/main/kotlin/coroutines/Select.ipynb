{
 "cells": [
  {
   "metadata": {},
   "cell_type": "markdown",
   "source": "# 前置依赖"
  },
  {
   "metadata": {
    "collapsed": true,
    "ExecuteTime": {
     "end_time": "2025-08-26T15:04:50.546471Z",
     "start_time": "2025-08-26T15:04:45.928782Z"
    }
   },
   "cell_type": "code",
   "source": [
    "%useLatestDescriptors\n",
    "%use coroutines"
   ],
   "outputs": [],
   "execution_count": 1
  },
  {
   "metadata": {},
   "cell_type": "markdown",
   "source": [
    "# Select 表达式（实验性）\n",
    "\n",
    "`Select` 表达式使得同时等待多个挂起函数并选择第一个可用的函数成为可能。"
   ]
  },
  {
   "metadata": {},
   "cell_type": "markdown",
   "source": [
    "## 从通道中选择\n",
    "\n",
    "假设我们有两个字符串生产者：`fizz` 和 `buzz`。\n",
    "\n",
    "`fizz` 每 500 毫秒生成一次 \"Fizz\" 字符串：\n",
    "\n",
    "`buzz` 每 1000 毫秒生成一次 \"Buzz!\" 字符串："
   ]
  },
  {
   "metadata": {
    "ExecuteTime": {
     "end_time": "2025-08-26T10:20:05.786032Z",
     "start_time": "2025-08-11T13:55:19.921194Z"
    }
   },
   "cell_type": "code",
   "outputs": [],
   "execution_count": 101,
   "source": [
    "fun CoroutineScope.fizz() = produce<String> {\n",
    "    while (true) { // sends \"Fizz\" every 500 ms\n",
    "        delay(500)\n",
    "        send(\"Fizz\")\n",
    "    }\n",
    "}\n",
    "\n",
    "fun CoroutineScope.buzz() = produce<String> {\n",
    "    while (true) { // sends \"Buzz!\" every 1000 ms\n",
    "        delay(1000)\n",
    "        send(\"Buzz!\")\n",
    "    }\n",
    "}"
   ]
  },
  {
   "metadata": {},
   "cell_type": "markdown",
   "source": "使用 [`receive`][ReceiveChannel.receive] 挂起函数，我们可以要么从一个通道接收，要么从另一个通道接收。但是 [`select`] 表达式允许我们使用其 [`onReceive`][ReceiveChannel.onReceive] 子句同时从两者接收："
  },
  {
   "metadata": {
    "ExecuteTime": {
     "end_time": "2025-08-26T10:20:05.786154Z",
     "start_time": "2025-08-11T13:55:22.832397Z"
    }
   },
   "cell_type": "code",
   "outputs": [],
   "execution_count": 102,
   "source": [
    "import kotlinx.coroutines.selects.select\n",
    "\n",
    "suspend fun selectFizzBuzz(fizz: ReceiveChannel<String>, buzz: ReceiveChannel<String>) {\n",
    "    select<Unit> { // <Unit> means that this select expression does not produce any result\n",
    "        fizz.onReceive { value ->  // this is the first select clause\n",
    "            println(\"fizz -> '$value'\")\n",
    "        }\n",
    "        buzz.onReceive { value ->  // this is the second select clause\n",
    "            println(\"buzz -> '$value'\")\n",
    "        }\n",
    "    }\n",
    "}"
   ]
  },
  {
   "metadata": {},
   "cell_type": "markdown",
   "source": "让我们运行它七次："
  },
  {
   "metadata": {
    "ExecuteTime": {
     "end_time": "2025-08-26T10:20:05.786276Z",
     "start_time": "2025-08-11T13:55:51.599304Z"
    }
   },
   "cell_type": "code",
   "outputs": [
    {
     "name": "stdout",
     "output_type": "stream",
     "text": [
      "fizz -> 'Fizz'\n",
      "buzz -> 'Buzz!'\n",
      "fizz -> 'Fizz'\n",
      "fizz -> 'Fizz'\n",
      "buzz -> 'Buzz!'\n",
      "fizz -> 'Fizz'\n",
      "fizz -> 'Fizz'\n"
     ]
    }
   ],
   "execution_count": 103,
   "source": [
    "runBlocking<Unit> {\n",
    "    val fizz = fizz()\n",
    "    val buzz = buzz()\n",
    "    repeat(7) {\n",
    "        selectFizzBuzz(fizz, buzz)\n",
    "    }\n",
    "    coroutineContext.cancelChildren() // 取消 fizz 和 buzz 协程\n",
    "}"
   ]
  },
  {
   "metadata": {},
   "cell_type": "markdown",
   "source": [
    "## 在通道关闭时选择\n",
    "\n",
    "当通道关闭时，`select` 中的 [`onReceive`][ReceiveChannel.onReceive] 子句会失败，导致相应的 `select` 抛出异常。我们可以使用 [`onReceiveCatching`][ReceiveChannel.onReceiveCatching] 子句在通道关闭时执行特定操作。以下示例还展示了 `select` 是一个表达式，它返回其所选子句的结果："
   ]
  },
  {
   "metadata": {
    "ExecuteTime": {
     "end_time": "2025-08-26T10:20:05.786406Z",
     "start_time": "2025-08-11T13:58:04.785482Z"
    }
   },
   "cell_type": "code",
   "outputs": [],
   "execution_count": 104,
   "source": [
    "suspend fun selectAorB(a: ReceiveChannel<String>, b: ReceiveChannel<String>): String =\n",
    "    select<String> {\n",
    "        a.onReceiveCatching { it ->\n",
    "            val value = it.getOrNull()\n",
    "            if (value != null) {\n",
    "                \"a -> '$value'\"\n",
    "            } else {\n",
    "                \"Channel 'a' is closed\"\n",
    "            }\n",
    "        }\n",
    "        b.onReceiveCatching { it ->\n",
    "            val value = it.getOrNull()\n",
    "            if (value != null) {\n",
    "                \"b -> '$value'\"\n",
    "            } else {\n",
    "                \"Channel 'b' is closed\"\n",
    "            }\n",
    "        }\n",
    "    }"
   ]
  },
  {
   "metadata": {},
   "cell_type": "markdown",
   "source": "让我们用通道 a（生成四次 \"Hello\" 字符串）和通道 b（生成四次 \"World\"）来使用它："
  },
  {
   "metadata": {
    "ExecuteTime": {
     "end_time": "2025-08-26T10:20:05.786504Z",
     "start_time": "2025-08-11T14:00:00.474134Z"
    }
   },
   "cell_type": "code",
   "outputs": [
    {
     "name": "stdout",
     "output_type": "stream",
     "text": [
      "a -> 'Hello 0'\n",
      "a -> 'Hello 1'\n",
      "b -> 'World 0'\n",
      "a -> 'Hello 2'\n",
      "a -> 'Hello 3'\n",
      "b -> 'World 1'\n",
      "Channel 'a' is closed\n",
      "Channel 'a' is closed\n"
     ]
    }
   ],
   "execution_count": 108,
   "source": [
    "runBlocking<Unit> {\n",
    "    val a = produce<String> {\n",
    "        repeat(4) { send(\"Hello $it\") }\n",
    "    }\n",
    "    val b = produce<String> {\n",
    "        repeat(4) { send(\"World $it\") }\n",
    "    }\n",
    "    repeat(8) { // 打印前八个结果\n",
    "        println(selectAorB(a, b))\n",
    "    }\n",
    "    coroutineContext.cancelChildren()\n",
    "}"
   ]
  },
  {
   "metadata": {},
   "cell_type": "markdown",
   "source": [
    "可以从中得出几点观察结果。\n",
    "\n",
    "首先，`select` 对第一个子句有偏向性。当多个子句同时可选择时，它们中第一个被选中。在这里，两个通道都在持续生成字符串，因此 a 通道作为 `select` 中的第一个子句，会胜出。然而，因为我们使用的是无缓冲通道，`a` 会在其 [`send`][SendChannel.send] 调用时时不时地挂起，这也给了 `b` 发送的机会。\n",
    "\n",
    "第二个观察结果是，当通道已关闭时，[`onReceiveCatching`][ReceiveChannel.onReceiveCatching] 会立即被选中。"
   ]
  },
  {
   "metadata": {},
   "cell_type": "markdown",
   "source": [
    "## 选择发送\n",
    "\n",
    "`Select` 表达式具有 [`onSend`][SendChannel.onSend] 子句，结合选择的偏向性，可以大有裨益。\n",
    "\n",
    "让我们编写一个整数生产者的示例，当其主通道上的消费者无法跟上时，它会将值发送到 `side` 通道："
   ]
  },
  {
   "metadata": {
    "ExecuteTime": {
     "end_time": "2025-08-26T10:20:05.786591Z",
     "start_time": "2025-08-11T14:03:18.224325Z"
    }
   },
   "cell_type": "code",
   "outputs": [],
   "execution_count": 109,
   "source": [
    "import kotlinx.coroutines.channels.SendChannel\n",
    "\n",
    "fun CoroutineScope.produceNumbers(side: SendChannel<Int>) = produce<Int> {\n",
    "    for (num in 1..10) { // produce 10 numbers from 1 to 10\n",
    "        delay(100) // every 100 ms\n",
    "        select<Unit> {\n",
    "            onSend(num) {} // Send to the primary channel\n",
    "            side.onSend(num) {} // or to the side channel\n",
    "        }\n",
    "    }\n",
    "}"
   ]
  },
  {
   "metadata": {},
   "cell_type": "markdown",
   "source": "消费者会相当慢，处理每个数字需要 250 毫秒："
  },
  {
   "metadata": {
    "ExecuteTime": {
     "end_time": "2025-08-26T10:20:05.786683Z",
     "start_time": "2025-08-11T14:04:04.574573Z"
    }
   },
   "cell_type": "code",
   "outputs": [
    {
     "name": "stdout",
     "output_type": "stream",
     "text": [
      "Consuming 1\n",
      "Side channel has 2\n",
      "Side channel has 3\n",
      "Consuming 4\n",
      "Side channel has 5\n",
      "Side channel has 6\n",
      "Consuming 7\n",
      "Side channel has 8\n",
      "Side channel has 9\n",
      "Consuming 10\n",
      "Done consuming\n"
     ]
    }
   ],
   "execution_count": 110,
   "source": [
    "runBlocking<Unit> {\n",
    "    val side = Channel<Int>() // 分配侧通道\n",
    "    launch { // 这是侧通道的一个非常快的消费者\n",
    "        side.consumeEach { println(\"Side channel has $it\") }\n",
    "    }\n",
    "    produceNumbers(side).consumeEach {\n",
    "        println(\"Consuming $it\")\n",
    "        delay(250) // 让我们妥善处理消费的数字，不要着急\n",
    "    }\n",
    "    println(\"Done consuming\") // 完成消费\n",
    "    coroutineContext.cancelChildren()\n",
    "}"
   ]
  },
  {
   "metadata": {},
   "cell_type": "markdown",
   "source": [
    "## 选择延迟值\n",
    "\n",
    "延迟值可以使用 [`onAwait`][Deferred.onAwait] 子句进行选择。让我们从一个异步函数开始，它在随机延迟后返回一个延迟的字符串值："
   ]
  },
  {
   "metadata": {
    "ExecuteTime": {
     "end_time": "2025-08-26T10:20:05.786772Z",
     "start_time": "2025-08-11T14:05:18.243791Z"
    }
   },
   "cell_type": "code",
   "outputs": [],
   "execution_count": 111,
   "source": [
    "fun CoroutineScope.asyncString(time: Int) = async {\n",
    "    delay(time.toLong())\n",
    "    \"Waited for $time ms\"\n",
    "}"
   ]
  },
  {
   "metadata": {},
   "cell_type": "markdown",
   "source": "让我们启动十二个带有随机延迟的函数。"
  },
  {
   "metadata": {
    "ExecuteTime": {
     "end_time": "2025-08-26T10:20:05.786871Z",
     "start_time": "2025-08-11T14:05:53.119154Z"
    }
   },
   "cell_type": "code",
   "outputs": [],
   "execution_count": 112,
   "source": [
    "import kotlin.random.Random\n",
    "\n",
    "fun CoroutineScope.asyncStringsList(): List<Deferred<String>> {\n",
    "    val random = Random(3)\n",
    "    return List(12) { asyncString(random.nextInt(1000)) }\n",
    "}"
   ]
  },
  {
   "metadata": {},
   "cell_type": "markdown",
   "source": "现在主函数会等待其中第一个完成，并计算仍处于活动状态的延迟值数量。请注意，我们在这里利用了 `select` 表达式是一个 `Kotlin DSL` 的事实，因此我们可以使用任意代码为其提供子句。在这种情况下，我们遍历延迟值列表，为每个延迟值提供 `onAwait` 子句。"
  },
  {
   "metadata": {
    "ExecuteTime": {
     "end_time": "2025-08-26T10:20:05.786993Z",
     "start_time": "2025-08-11T14:08:08.782871Z"
    }
   },
   "cell_type": "code",
   "outputs": [
    {
     "name": "stdout",
     "output_type": "stream",
     "text": [
      "Deferred 6 produced answer 'Waited for 43 ms'\n",
      "11 coroutines are still active\n"
     ]
    }
   ],
   "execution_count": 113,
   "source": [
    "runBlocking<Unit> {\n",
    "    val list = asyncStringsList()\n",
    "    val result = select<String> {\n",
    "        list.withIndex().forEach { (index, deferred) ->\n",
    "            deferred.onAwait { answer ->\n",
    "                \"Deferred $index produced answer '$answer'\" // 延迟值 $index 产生了结果 '$answer'\n",
    "            }\n",
    "        }\n",
    "    }\n",
    "    println(result)\n",
    "    val countActive = list.count { it.isActive }\n",
    "    println(\"$countActive coroutines are still active\") // $countActive 协程仍处于活动状态\n",
    "}"
   ]
  },
  {
   "metadata": {},
   "cell_type": "markdown",
   "source": [
    "## 在延迟值通道上切换\n",
    "\n",
    "让我们编写一个通道生产者函数，它消费一个延迟字符串值通道，等待每个接收到的延迟值，但只等到下一个延迟值出现或通道关闭。这个示例将 [`onReceiveCatching`][ReceiveChannel.onReceiveCatching] 和 [`onAwait`][Deferred.onAwait] 子句放在同一个 `select` 中："
   ]
  },
  {
   "metadata": {
    "ExecuteTime": {
     "end_time": "2025-08-26T10:20:05.787103Z",
     "start_time": "2025-08-11T14:11:00.864164Z"
    }
   },
   "cell_type": "code",
   "outputs": [],
   "execution_count": 114,
   "source": [
    "fun CoroutineScope.switchMapDeferreds(input: ReceiveChannel<Deferred<String>>) = produce<String> {\n",
    "    var current = input.receive() // start with first received deferred value\n",
    "    while (isActive) { // loop while not cancelled/closed\n",
    "        val next = select<Deferred<String>?> { // return next deferred value from this select or null\n",
    "            input.onReceiveCatching { update ->\n",
    "                update.getOrNull()\n",
    "            }\n",
    "            current.onAwait { value ->\n",
    "                send(value) // send value that current deferred has produced\n",
    "                input.receiveCatching().getOrNull() // and use the next deferred from the input channel\n",
    "            }\n",
    "        }\n",
    "        if (next == null) {\n",
    "            println(\"Channel was closed\") // 通道已关闭\n",
    "            break // out of loop\n",
    "        } else {\n",
    "            current = next\n",
    "        }\n",
    "    }\n",
    "}"
   ]
  },
  {
   "metadata": {},
   "cell_type": "markdown",
   "source": "为了测试它，我们将使用一个简单的异步函数，它在指定时间后解析为指定的字符串："
  },
  {
   "metadata": {
    "ExecuteTime": {
     "end_time": "2025-08-26T10:20:05.787186Z",
     "start_time": "2025-08-11T14:11:20.299095Z"
    }
   },
   "cell_type": "code",
   "outputs": [],
   "execution_count": 115,
   "source": [
    "fun CoroutineScope.asyncString(str: String, time: Long) = async {\n",
    "    delay(time)\n",
    "    str\n",
    "}"
   ]
  },
  {
   "metadata": {},
   "cell_type": "markdown",
   "source": "主函数只是启动一个协程来打印 `switchMapDeferreds` 的结果，并向其发送一些测试数据："
  },
  {
   "metadata": {
    "ExecuteTime": {
     "end_time": "2025-08-26T10:20:05.787264Z",
     "start_time": "2025-08-11T14:11:46.879250Z"
    }
   },
   "cell_type": "code",
   "outputs": [
    {
     "name": "stdout",
     "output_type": "stream",
     "text": [
      "BEGIN\n",
      "Replace\n",
      "END\n",
      "Channel was closed\n"
     ]
    }
   ],
   "execution_count": 117,
   "source": [
    "runBlocking<Unit> {\n",
    "    val chan = Channel<Deferred<String>>() // 用于测试的通道\n",
    "    launch { // 启动打印协程\n",
    "        for (s in switchMapDeferreds(chan))\n",
    "            println(s) // 打印每个接收到的字符串\n",
    "    }\n",
    "    chan.send(asyncString(\"BEGIN\", 100))\n",
    "    delay(200) // 足够时间让 \"BEGIN\" 产生\n",
    "    chan.send(asyncString(\"Slow\", 500))\n",
    "    delay(100) // 没有足够时间产生 slow\n",
    "    chan.send(asyncString(\"Replace\", 100))\n",
    "    delay(500) // 在最后一个之前给它时间\n",
    "    chan.send(asyncString(\"END\", 500))\n",
    "    delay(1000) // 给它时间处理\n",
    "    chan.close() // 关闭通道...\n",
    "    delay(500) // 并等待一段时间让它完成\n",
    "}"
   ]
  }
 ],
 "metadata": {
  "kernelspec": {
   "display_name": "Kotlin",
   "language": "kotlin",
   "name": "kotlin"
  },
  "language_info": {
   "name": "kotlin",
   "version": "2.2.20-dev-4982",
   "mimetype": "text/x-kotlin",
   "file_extension": ".kt",
   "pygments_lexer": "kotlin",
   "codemirror_mode": "text/x-kotlin",
   "nbconvert_exporter": ""
  }
 },
 "nbformat": 4,
 "nbformat_minor": 0
}
