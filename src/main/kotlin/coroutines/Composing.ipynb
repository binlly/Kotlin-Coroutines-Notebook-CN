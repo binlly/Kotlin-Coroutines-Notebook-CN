{
 "cells": [
  {
   "metadata": {},
   "cell_type": "markdown",
   "source": "# 前置依赖"
  },
  {
   "metadata": {
    "collapsed": true,
    "ExecuteTime": {
     "end_time": "2025-08-26T15:04:38.081549Z",
     "start_time": "2025-08-26T15:04:34.637884Z"
    }
   },
   "cell_type": "code",
   "source": [
    "%useLatestDescriptors\n",
    "%use coroutines"
   ],
   "outputs": [],
   "execution_count": 1
  },
  {
   "metadata": {},
   "cell_type": "markdown",
   "source": "# 组合挂起函数"
  },
  {
   "metadata": {},
   "cell_type": "markdown",
   "source": [
    "## 默认是顺序执行的\n",
    "\n",
    "我们使用正常的顺序调用，因为协程中的代码，就像常规代码一样，默认是_顺序执行_的。以下示例通过测量执行这两个挂起函数所需的总时间来演示这一点："
   ]
  },
  {
   "metadata": {
    "ExecuteTime": {
     "end_time": "2025-08-26T11:44:08.565474Z",
     "start_time": "2025-08-26T11:44:08.525251Z"
    }
   },
   "cell_type": "code",
   "source": [
    "import kotlin.system.measureTimeMillis\n",
    "\n",
    "suspend fun doSomethingUsefulOne(): Int {\n",
    "    delay(500L) // pretend we are doing something useful here\n",
    "    return 13\n",
    "}\n",
    "\n",
    "suspend fun doSomethingUsefulTwo(): Int {\n",
    "    delay(500L) // pretend we are doing something useful here, too\n",
    "    return 29\n",
    "}"
   ],
   "outputs": [],
   "execution_count": 5
  },
  {
   "metadata": {
    "ExecuteTime": {
     "end_time": "2025-08-26T10:20:05.777245Z",
     "start_time": "2025-08-26T09:59:06.316173Z"
    }
   },
   "cell_type": "code",
   "outputs": [
    {
     "name": "stdout",
     "output_type": "stream",
     "text": [
      "The answer is 42\n",
      "Completed in 1005 ms\n"
     ]
    }
   ],
   "execution_count": 55,
   "source": [
    "runBlocking<Unit> {\n",
    "    val time = measureTimeMillis {\n",
    "        val one = doSomethingUsefulOne()\n",
    "        val two = doSomethingUsefulTwo()\n",
    "        println(\"The answer is ${one + two}\")\n",
    "    }\n",
    "    println(\"Completed in $time ms\")\n",
    "}"
   ]
  },
  {
   "metadata": {},
   "cell_type": "markdown",
   "source": [
    "## 使用 async 实现并发\n",
    "如果 `doSomethingUsefulOne` 和 `doSomethingUsefulTwo` 的调用之间没有依赖关系，并且我们希望通过_并发_执行两者来更快地得到结果，该怎么办？这就是 `async` 发挥作用的地方。\n",
    "\n",
    "从概念上讲，`async` 就像 `launch` 一样。它启动一个独立的协程，这是一个与所有其他协程并发工作的轻量级线程。不同之处在于，`launch` 返回一个 `Job` 并且不携带任何结果值，而 `async` 返回一个 `Deferred` — 一个轻量级的非阻塞未来（`future`），它代表了一个稍后提供结果的承诺。你可以在一个 `deferred` 值上使用 `.await()` 来获取其最终结果，但 `Deferred` 也是一个 `Job`，因此如果需要，你可以取消它。\n",
    "\n",
    "\n"
   ]
  },
  {
   "metadata": {
    "ExecuteTime": {
     "end_time": "2025-08-26T10:20:05.777427Z",
     "start_time": "2025-08-26T09:59:07.373942Z"
    }
   },
   "cell_type": "code",
   "outputs": [
    {
     "name": "stdout",
     "output_type": "stream",
     "text": [
      "The answer is 42\n",
      "Completed in 506 ms\n"
     ]
    }
   ],
   "execution_count": 56,
   "source": [
    "runBlocking<Unit> {\n",
    "    val time = measureTimeMillis {\n",
    "        val one = async { doSomethingUsefulOne() }\n",
    "        val two = async { doSomethingUsefulTwo() }\n",
    "        println(\"The answer is ${one.await() + two.await()}\")\n",
    "    }\n",
    "    println(\"Completed in $time ms\")\n",
    "}"
   ]
  },
  {
   "metadata": {},
   "cell_type": "markdown",
   "source": [
    "## 惰性启动的 async\n",
    "\n",
    "可选地，通过将其 `start` 参数设置为 `CoroutineStart.LAZY`，`async` 可以实现惰性启动。在此模式下，它仅在 `await` 需要其结果时，或者当其 `Job` 的 `start` 函数被调用时，才启动协程。运行以下示例："
   ]
  },
  {
   "metadata": {
    "ExecuteTime": {
     "end_time": "2025-08-26T10:20:05.777571Z",
     "start_time": "2025-08-26T09:59:07.937412Z"
    }
   },
   "cell_type": "code",
   "outputs": [
    {
     "name": "stdout",
     "output_type": "stream",
     "text": [
      "The answer is 42\n",
      "Completed in 505 ms\n"
     ]
    }
   ],
   "execution_count": 57,
   "source": [
    "runBlocking<Unit> {\n",
    "    val time = measureTimeMillis {\n",
    "        val one = async(start = CoroutineStart.LAZY) { doSomethingUsefulOne() }\n",
    "        val two = async(start = CoroutineStart.LAZY) { doSomethingUsefulTwo() }\n",
    "        // some computation\n",
    "        one.start() // start the first one\n",
    "        two.start() // start the second one\n",
    "        println(\"The answer is ${one.await() + two.await()}\")\n",
    "    }\n",
    "    println(\"Completed in $time ms\")\n",
    "}"
   ]
  },
  {
   "metadata": {},
   "cell_type": "markdown",
   "source": [
    "## 使用 async 实现结构化并发\n",
    "\n",
    "如果 `concurrentSum` 函数的代码内部出现问题并抛出异常，所有在其作用域内启动的协程都将被取消。\n",
    "取消总是通过协程层次结构传播：\n"
   ]
  },
  {
   "metadata": {
    "ExecuteTime": {
     "end_time": "2025-08-26T10:20:05.777788Z",
     "start_time": "2025-08-26T09:59:08.505469Z"
    }
   },
   "cell_type": "code",
   "outputs": [
    {
     "name": "stdout",
     "output_type": "stream",
     "text": [
      "Second child throws an exception\n",
      "First child was cancelled\n",
      "Computation failed with ArithmeticException\n"
     ]
    }
   ],
   "execution_count": 58,
   "source": [
    "runBlocking<Unit> {\n",
    "    try {\n",
    "        failedConcurrentSum()\n",
    "    } catch(e: ArithmeticException) {\n",
    "        println(\"Computation failed with ArithmeticException\")\n",
    "    }\n",
    "}\n",
    "\n",
    "suspend fun failedConcurrentSum(): Int = coroutineScope {\n",
    "    val one = async<Int> {\n",
    "        try {\n",
    "            delay(Long.MAX_VALUE) // Emulates very long computation\n",
    "            42\n",
    "        } finally {\n",
    "            println(\"First child was cancelled\")\n",
    "        }\n",
    "    }\n",
    "    val two = async<Int> {\n",
    "        println(\"Second child throws an exception\")\n",
    "        throw ArithmeticException()\n",
    "    }\n",
    "    one.await() + two.await()\n",
    "}"
   ]
  }
 ],
 "metadata": {
  "kernelspec": {
   "display_name": "Kotlin",
   "language": "kotlin",
   "name": "kotlin"
  },
  "language_info": {
   "name": "kotlin",
   "version": "2.2.20-dev-4982",
   "mimetype": "text/x-kotlin",
   "file_extension": ".kt",
   "pygments_lexer": "kotlin",
   "codemirror_mode": "text/x-kotlin",
   "nbconvert_exporter": ""
  }
 },
 "nbformat": 4,
 "nbformat_minor": 0
}
