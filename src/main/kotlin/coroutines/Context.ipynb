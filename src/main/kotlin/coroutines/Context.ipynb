{
 "cells": [
  {
   "metadata": {},
   "cell_type": "markdown",
   "source": "# 前置依赖"
  },
  {
   "metadata": {
    "collapsed": true,
    "ExecuteTime": {
     "end_time": "2025-08-26T16:29:43.987774Z",
     "start_time": "2025-08-26T16:29:43.948560Z"
    }
   },
   "cell_type": "code",
   "source": [
    "%useLatestDescriptors\n",
    "%use coroutines"
   ],
   "outputs": [],
   "execution_count": 2
  },
  {
   "metadata": {},
   "cell_type": "markdown",
   "source": [
    "# 协程上下文与调度器\n",
    "\n",
    "协程总是在某个上下文中执行，该上下文由 `Kotlin` 标准库中定义的 `CoroutineContext` 类型的值表示。\n",
    "\n",
    "协程上下文是各种元素的集合。主要元素是协程的 `Job`（我们之前已经见过）及其调度器，本节将介绍它。"
   ]
  },
  {
   "metadata": {},
   "cell_type": "markdown",
   "source": [
    "## 调度器与线程\n",
    "\n",
    "协程上下文包含一个 协程调度器（参见 `CoroutineDispatcher`），它决定了相应协程用于执行的线程或线程集。协程调度器可以将协程执行限制在特定线程、将其分派到线程池，或者让其以非受限方式运行。\n",
    "\n",
    "所有协程构建器（如 `launch` 和 `async`）都接受一个可选的 `CoroutineContext` 参数，该参数可用于显式指定新协程的调度器及其他上下文元素。\n",
    "\n",
    "尝试以下示例："
   ]
  },
  {
   "metadata": {
    "ExecuteTime": {
     "end_time": "2025-08-26T16:29:44.239924Z",
     "start_time": "2025-08-26T16:29:43.995624Z"
    }
   },
   "cell_type": "code",
   "source": [
    "runBlocking<Unit> {\n",
    "    launch { // context of the parent, main runBlocking coroutine\n",
    "        println(\"main runBlocking      : I'm working in thread ${Thread.currentThread().name}\")\n",
    "    }\n",
    "    launch(Dispatchers.Unconfined) { // not confined -- will work with main thread\n",
    "        println(\"Unconfined            : I'm working in thread ${Thread.currentThread().name}\")\n",
    "    }\n",
    "    launch(Dispatchers.Default) { // will get dispatched to DefaultDispatcher\n",
    "        println(\"Default               : I'm working in thread ${Thread.currentThread().name}\")\n",
    "    }\n",
    "    launch(newSingleThreadContext(\"MyOwnThread\")) { // will get its own new thread\n",
    "        println(\"newSingleThreadContext: I'm working in thread ${Thread.currentThread().name}\")\n",
    "    }\n",
    "}"
   ],
   "outputs": [
    {
     "name": "stdout",
     "output_type": "stream",
     "text": [
      "Unconfined            : I'm working in thread Execution of code 'runBlocking<Unit> {...' @coroutine#3\n",
      "Default               : I'm working in thread DefaultDispatcher-worker-1 @coroutine#4\n",
      "newSingleThreadContext: I'm working in thread MyOwnThread @coroutine#5\n",
      "main runBlocking      : I'm working in thread Execution of code 'runBlocking<Unit> {...' @coroutine#2\n"
     ]
    }
   ],
   "execution_count": 3
  },
  {
   "metadata": {},
   "cell_type": "markdown",
   "source": [
    "当 `launch { ... }` 不带参数使用时，它会从其启动的 `CoroutineScope` 继承上下文（以及调度器）。在这种情况下，它继承了运行在 `main` 线程中的主 `runBlocking` 协程的上下文。\n",
    "\n",
    "`Dispatchers.Unconfined` 是一种特殊的调度器，它似乎也在 `main` 线程中运行，但实际上，它是一种不同的机制，稍后会进行解释。\n",
    "\n",
    "当作用域中未显式指定其他调度器时，会使用默认调度器。它由 `Dispatchers.Default` 表示，并使用一个共享的后台线程池。\n",
    "\n",
    "`newSingleThreadContext` 会为协程创建一个线程来运行。一个专用线程是非常昂贵的资源。在实际应用程序中，当不再需要时，必须使用 `close` 函数释放它，或者将其存储在顶层变量中并在整个应用程序中重复使用。\n",
    "\n"
   ]
  },
  {
   "metadata": {},
   "cell_type": "markdown",
   "source": [
    "## 非受限调度器与受限调度器\n",
    "\n",
    "`Dispatchers.Unconfined` 协程调度器会在调用者线程中启动协程，但仅限于第一个挂起点之前。挂起之后，它会在完全由所调用的挂起函数确定的线程中恢复协程。非受限调度器适用于那些既不消耗 `CPU` 时间，也不更新任何限制在特定线程上的共享数据（如 UI）的协程。\n",
    "\n",
    "另一方面，调度器默认从外部 `CoroutineScope` 继承。特别是，`runBlocking` 协程的默认调度器受限于调用者线程，因此继承它会使执行受限于该线程，并具有可预测的 `FIFO` 调度。"
   ]
  },
  {
   "metadata": {
    "ExecuteTime": {
     "end_time": "2025-08-26T16:29:45.388616Z",
     "start_time": "2025-08-26T16:29:44.270749Z"
    }
   },
   "cell_type": "code",
   "source": [
    "runBlocking<Unit> {\n",
    "    launch(Dispatchers.Unconfined) { // not confined -- will work with main thread\n",
    "        println(\"Unconfined      : I'm working in thread ${Thread.currentThread().name}\")\n",
    "        delay(500)\n",
    "        println(\"Unconfined      : After delay in thread ${Thread.currentThread().name}\")\n",
    "    }\n",
    "    launch { // context of the parent, main runBlocking coroutine\n",
    "        println(\"main runBlocking: I'm working in thread ${Thread.currentThread().name}\")\n",
    "        delay(1000)\n",
    "        println(\"main runBlocking: After delay in thread ${Thread.currentThread().name}\")\n",
    "    }\n",
    "}"
   ],
   "outputs": [
    {
     "name": "stdout",
     "output_type": "stream",
     "text": [
      "Unconfined      : I'm working in thread Execution of code 'runBlocking<Unit> {...' @coroutine#7\n",
      "main runBlocking: I'm working in thread Execution of code 'runBlocking<Unit> {...' @coroutine#8\n",
      "Unconfined      : After delay in thread kotlinx.coroutines.DefaultExecutor @coroutine#7\n",
      "main runBlocking: After delay in thread Execution of code 'runBlocking<Unit> {...' @coroutine#8\n"
     ]
    }
   ],
   "execution_count": 4
  },
  {
   "metadata": {},
   "cell_type": "markdown",
   "source": [
    "## 线程间跳转\n",
    "使用 `-Dkotlinx.coroutines.debug JVM` 选项运行以下代码（参见调试）："
   ]
  },
  {
   "metadata": {
    "ExecuteTime": {
     "end_time": "2025-08-26T16:29:45.488178Z",
     "start_time": "2025-08-26T16:29:45.393178Z"
    }
   },
   "cell_type": "code",
   "source": [
    "fun log(msg: String) = println(\"[${Thread.currentThread().name}] $msg\")\n",
    "\n",
    "newSingleThreadContext(\"Ctx1\").use { ctx1 ->\n",
    "    newSingleThreadContext(\"Ctx2\").use { ctx2 ->\n",
    "        runBlocking(ctx1) {\n",
    "            log(\"Started in ctx1\")\n",
    "            withContext(ctx2) {\n",
    "                log(\"Working in ctx2\")\n",
    "            }\n",
    "            log(\"Back to ctx1\")\n",
    "        }\n",
    "    }\n",
    "}"
   ],
   "outputs": [
    {
     "name": "stdout",
     "output_type": "stream",
     "text": [
      "[Ctx1 @coroutine#9] Started in ctx1\n",
      "[Ctx2 @coroutine#9] Working in ctx2\n",
      "[Ctx1 @coroutine#9] Back to ctx1\n"
     ]
    }
   ],
   "execution_count": 5
  },
  {
   "metadata": {},
   "cell_type": "markdown",
   "source": [
    "上面的示例展示了协程使用中的新技巧。\n",
    "\n",
    "第一种技巧展示了如何使用带指定上下文的 `runBlocking`。第二种技巧涉及调用 `withContext`，它可能会挂起当前协程并切换到新上下文——前提是新上下文与现有上下文不同。具体来说，如果你指定了不同的 `CoroutineDispatcher`，则需要额外的分派：该代码块会在新调度器上调度，一旦完成，执行将返回到原始调度器。\n",
    "\n",
    "> 上面的示例使用了 `Kotlin` 标准库中的 `use` 函数，以便在不再需要时正确释放由 `newSingleThreadContext` 创建的线程资源。"
   ]
  },
  {
   "metadata": {},
   "cell_type": "markdown",
   "source": [
    "## 上下文中的 Job\n",
    "\n",
    "协程的 `Job` 是其上下文的一部分，可以使用 `coroutineContext[Job]` 表达式从中检索："
   ]
  },
  {
   "metadata": {
    "ExecuteTime": {
     "end_time": "2025-08-26T16:29:45.530133Z",
     "start_time": "2025-08-26T16:29:45.494539Z"
    }
   },
   "cell_type": "code",
   "source": [
    "runBlocking<Unit> {\n",
    "    println(\"My job is ${coroutineContext[Job]}\")\n",
    "}"
   ],
   "outputs": [
    {
     "name": "stdout",
     "output_type": "stream",
     "text": [
      "My job is \"coroutine#10\":BlockingCoroutine{Active}@6bb7d2cc\n"
     ]
    }
   ],
   "execution_count": 6
  },
  {
   "metadata": {},
   "cell_type": "markdown",
   "source": "> 请注意，`CoroutineScope` 中的 `isActive` 只是 `coroutineContext[Job]?.isActive == true` 的一个便捷快捷方式。"
  },
  {
   "metadata": {},
   "cell_type": "markdown",
   "source": [
    "## 协程的子协程\n",
    "\n",
    "当一个协程在另一个协程的 `CoroutineScope` 中启动时，它会通过 `CoroutineScope.coroutineContext` 继承其上下文，并且新协程的 `Job` 会成为父协程 `Job` 的_子级_。当父协程被取消时，它的所有子协程也会被递归取消。\n",
    "\n",
    "然而，这种父子关系可以通过以下两种方式之一显式覆盖：\n",
    "\n",
    "当启动协程时显式指定不同的作用域（例如 `GlobalScope.launch`）时，它不会从父作用域继承 `Job`。\n",
    "当一个不同的 `Job` 对象作为新协程的上下文传递时（如下例所示），它会覆盖父作用域的 `Job`。\n",
    "在这两种情况下，启动的协程都不会绑定到其启动的作用域，并独立运行。"
   ]
  },
  {
   "metadata": {
    "ExecuteTime": {
     "end_time": "2025-08-26T16:29:47.125557Z",
     "start_time": "2025-08-26T16:29:45.534389Z"
    }
   },
   "cell_type": "code",
   "source": [
    "runBlocking<Unit> {\n",
    "    // launch a coroutine to process some kind of incoming request\n",
    "    val request = launch {\n",
    "        // it spawns two other jobs\n",
    "        launch(Job()) {\n",
    "            println(\"job1: I run in my own Job and execute independently!\")\n",
    "            delay(1000)\n",
    "            println(\"job1: I am not affected by cancellation of the request\")\n",
    "        }\n",
    "        // and the other inherits the parent context\n",
    "        launch {\n",
    "            delay(100)\n",
    "            println(\"job2: I am a child of the request coroutine\")\n",
    "            delay(1000)\n",
    "            println(\"job2: I will not execute this line if my parent request is cancelled\")\n",
    "        }\n",
    "    }\n",
    "    delay(500)\n",
    "    request.cancel() // cancel processing of the request\n",
    "    println(\"main: Who has survived request cancellation?\")\n",
    "    delay(1000) // delay the main thread for a second to see what happens\n",
    "}"
   ],
   "outputs": [
    {
     "name": "stdout",
     "output_type": "stream",
     "text": [
      "job1: I run in my own Job and execute independently!\n",
      "job2: I am a child of the request coroutine\n",
      "main: Who has survived request cancellation?\n",
      "job1: I am not affected by cancellation of the request\n"
     ]
    }
   ],
   "execution_count": 7
  },
  {
   "metadata": {},
   "cell_type": "markdown",
   "source": [
    "## 父级职责\n",
    "\n",
    "父协程总是等待其所有子协程的完成。父级不必显式跟踪它启动的所有子协程，也无需在最后使用 `Job.join` 等待它们："
   ]
  },
  {
   "metadata": {
    "ExecuteTime": {
     "end_time": "2025-08-26T16:29:47.793523Z",
     "start_time": "2025-08-26T16:29:47.132127Z"
    }
   },
   "cell_type": "code",
   "source": [
    "runBlocking<Unit> {\n",
    "    // launch a coroutine to process some kind of incoming request\n",
    "    val request = launch {\n",
    "        repeat(3) { i -> // launch a few children jobs\n",
    "            launch  {\n",
    "                delay((i + 1) * 200L) // variable delay 200ms, 400ms, 600ms\n",
    "                println(\"Coroutine $i is done\")\n",
    "            }\n",
    "        }\n",
    "        println(\"request: I'm done and I don't explicitly join my children that are still active\")\n",
    "    }\n",
    "    request.join() // wait for completion of the request, including all its children\n",
    "    println(\"Now processing of the request is complete\")\n",
    "}"
   ],
   "outputs": [
    {
     "name": "stdout",
     "output_type": "stream",
     "text": [
      "request: I'm done and I don't explicitly join my children that are still active\n",
      "Coroutine 0 is done\n",
      "Coroutine 1 is done\n",
      "Coroutine 2 is done\n",
      "Now processing of the request is complete\n"
     ]
    }
   ],
   "execution_count": 8
  },
  {
   "metadata": {},
   "cell_type": "markdown",
   "source": [
    "## 组合上下文元素\n",
    "\n",
    "有时我们需要为一个协程上下文定义多个元素。我们可以使用 `+` 运算符来实现。例如，我们可以同时启动一个协程，并显式指定调度器和名称："
   ]
  },
  {
   "metadata": {
    "ExecuteTime": {
     "end_time": "2025-08-26T16:29:47.836169Z",
     "start_time": "2025-08-26T16:29:47.797490Z"
    }
   },
   "cell_type": "code",
   "source": [
    "runBlocking<Unit> {\n",
    "    launch(Dispatchers.Default + CoroutineName(\"test\")) {\n",
    "        println(\"I'm working in thread ${Thread.currentThread().name}\")\n",
    "    }\n",
    "}"
   ],
   "outputs": [
    {
     "name": "stdout",
     "output_type": "stream",
     "text": [
      "I'm working in thread DefaultDispatcher-worker-1 @test#21\n"
     ]
    }
   ],
   "execution_count": 9
  },
  {
   "metadata": {},
   "cell_type": "markdown",
   "source": "## 线程局部数据"
  },
  {
   "metadata": {
    "ExecuteTime": {
     "end_time": "2025-08-26T16:29:47.951004Z",
     "start_time": "2025-08-26T16:29:47.841477Z"
    }
   },
   "cell_type": "code",
   "source": [
    "val threadLocal = ThreadLocal<String?>() // declare thread-local variable\n",
    "\n",
    "runBlocking<Unit> {\n",
    "    threadLocal.set(\"父协程\")\n",
    "    println(\"Pre-main, current thread: ${Thread.currentThread()}, thread local value: '${threadLocal.get()}'\")\n",
    "    val job = launch(Dispatchers.Default + threadLocal.asContextElement(value = \"子协程\")) {\n",
    "        println(\"Launch start, current thread: ${Thread.currentThread()}, thread local value: '${threadLocal.get()}'\")\n",
    "        yield()\n",
    "        println(\"After yield, current thread: ${Thread.currentThread()}, thread local value: '${threadLocal.get()}'\")\n",
    "    }\n",
    "    job.join()\n",
    "    println(\"Post-main, current thread: ${Thread.currentThread()}, thread local value: '${threadLocal.get()}'\")\n",
    "}"
   ],
   "outputs": [
    {
     "name": "stdout",
     "output_type": "stream",
     "text": [
      "Pre-main, current thread: Thread[#30,Execution of code 'val threadLocal = Th...' @coroutine#22,5,main], thread local value: '父协程'\n",
      "Launch start, current thread: Thread[#92,DefaultDispatcher-worker-1 @coroutine#23,5,main], thread local value: '子协程'\n",
      "After yield, current thread: Thread[#92,DefaultDispatcher-worker-1 @coroutine#23,5,main], thread local value: '子协程'\n",
      "Post-main, current thread: Thread[#30,Execution of code 'val threadLocal = Th...' @coroutine#22,5,main], thread local value: '父协程'\n"
     ]
    }
   ],
   "execution_count": 10
  }
 ],
 "metadata": {
  "kernelspec": {
   "display_name": "Kotlin",
   "language": "kotlin",
   "name": "kotlin"
  },
  "language_info": {
   "name": "kotlin",
   "version": "2.2.20-dev-4982",
   "mimetype": "text/x-kotlin",
   "file_extension": ".kt",
   "pygments_lexer": "kotlin",
   "codemirror_mode": "text/x-kotlin",
   "nbconvert_exporter": ""
  }
 },
 "nbformat": 4,
 "nbformat_minor": 0
}
